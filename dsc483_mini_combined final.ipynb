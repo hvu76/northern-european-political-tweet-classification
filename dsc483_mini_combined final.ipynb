{
 "cells": [
  {
   "cell_type": "markdown",
   "id": "c7d2d6b2",
   "metadata": {},
   "source": [
    "# PART I: Desriptive analysis \n",
    "## Section A\n"
   ]
  },
  {
   "cell_type": "markdown",
   "id": "869d2e4f",
   "metadata": {},
   "source": [
    "## Part A\n",
    "Create a table that contains information on minimum, average, median, and maximum for the\n",
    "following: \n",
    "* tweet length (#characters and #words) (text column)\n",
    "* hashtag length (#characters and #words) (hashtags column) "
   ]
  },
  {
   "cell_type": "code",
   "execution_count": 1,
   "id": "a70a0b05",
   "metadata": {},
   "outputs": [
    {
     "data": {
      "text/plain": [
       "(407223, 6)"
      ]
     },
     "execution_count": 1,
     "metadata": {},
     "output_type": "execute_result"
    }
   ],
   "source": [
    "import pandas as pd\n",
    "import numpy as np\n",
    "training = pd.read_excel('training_data.xlsx')\n",
    "training.shape"
   ]
  },
  {
   "cell_type": "code",
   "execution_count": 2,
   "id": "499d9367",
   "metadata": {},
   "outputs": [
    {
     "data": {
      "text/html": [
       "<div>\n",
       "<style scoped>\n",
       "    .dataframe tbody tr th:only-of-type {\n",
       "        vertical-align: middle;\n",
       "    }\n",
       "\n",
       "    .dataframe tbody tr th {\n",
       "        vertical-align: top;\n",
       "    }\n",
       "\n",
       "    .dataframe thead th {\n",
       "        text-align: right;\n",
       "    }\n",
       "</style>\n",
       "<table border=\"1\" class=\"dataframe\">\n",
       "  <thead>\n",
       "    <tr style=\"text-align: right;\">\n",
       "      <th></th>\n",
       "      <th>hashtags</th>\n",
       "      <th>full_text</th>\n",
       "      <th>in_reply_to_screen_name</th>\n",
       "      <th>country_user</th>\n",
       "      <th>gender_user</th>\n",
       "      <th>pol_spec_user</th>\n",
       "    </tr>\n",
       "  </thead>\n",
       "  <tbody>\n",
       "    <tr>\n",
       "      <th>0</th>\n",
       "      <td>feminist AskMeAnything</td>\n",
       "      <td>b'RT @swedennewyork: What does it mean to have...</td>\n",
       "      <td>NaN</td>\n",
       "      <td>sweden</td>\n",
       "      <td>Male</td>\n",
       "      <td>Left</td>\n",
       "    </tr>\n",
       "    <tr>\n",
       "      <th>1</th>\n",
       "      <td>NaN</td>\n",
       "      <td>b'Jens Stoltenberg \\xc3\\xa5pnet virtuelle Rock...</td>\n",
       "      <td>NaN</td>\n",
       "      <td>norway</td>\n",
       "      <td>Male</td>\n",
       "      <td>Left</td>\n",
       "    </tr>\n",
       "    <tr>\n",
       "      <th>2</th>\n",
       "      <td>NaN</td>\n",
       "      <td>b'@Panenka_Bart Veel beterschap Bart en Loes! ...</td>\n",
       "      <td>BartDerwael</td>\n",
       "      <td>belgium</td>\n",
       "      <td>Male</td>\n",
       "      <td>Left</td>\n",
       "    </tr>\n",
       "    <tr>\n",
       "      <th>3</th>\n",
       "      <td>NaN</td>\n",
       "      <td>b'RT @CarlEmilLind: Tydelige S aftryk: \\n\\nPsk...</td>\n",
       "      <td>NaN</td>\n",
       "      <td>denmark</td>\n",
       "      <td>Female</td>\n",
       "      <td>Left</td>\n",
       "    </tr>\n",
       "    <tr>\n",
       "      <th>4</th>\n",
       "      <td>NaN</td>\n",
       "      <td>b'\\xf0\\x9f\\x98\\x83 https://t.co/bpqoZ8Y4wm'</td>\n",
       "      <td>NaN</td>\n",
       "      <td>sweden</td>\n",
       "      <td>Male</td>\n",
       "      <td>Left</td>\n",
       "    </tr>\n",
       "  </tbody>\n",
       "</table>\n",
       "</div>"
      ],
      "text/plain": [
       "                 hashtags                                          full_text  \\\n",
       "0  feminist AskMeAnything  b'RT @swedennewyork: What does it mean to have...   \n",
       "1                     NaN  b'Jens Stoltenberg \\xc3\\xa5pnet virtuelle Rock...   \n",
       "2                     NaN  b'@Panenka_Bart Veel beterschap Bart en Loes! ...   \n",
       "3                     NaN  b'RT @CarlEmilLind: Tydelige S aftryk: \\n\\nPsk...   \n",
       "4                     NaN        b'\\xf0\\x9f\\x98\\x83 https://t.co/bpqoZ8Y4wm'   \n",
       "\n",
       "  in_reply_to_screen_name country_user gender_user pol_spec_user  \n",
       "0                     NaN       sweden        Male          Left  \n",
       "1                     NaN       norway        Male          Left  \n",
       "2             BartDerwael      belgium        Male          Left  \n",
       "3                     NaN      denmark      Female          Left  \n",
       "4                     NaN       sweden        Male          Left  "
      ]
     },
     "execution_count": 2,
     "metadata": {},
     "output_type": "execute_result"
    }
   ],
   "source": [
    "training.head()"
   ]
  },
  {
   "cell_type": "markdown",
   "id": "9514b55d",
   "metadata": {},
   "source": [
    "#### Tweet length"
   ]
  },
  {
   "cell_type": "code",
   "execution_count": 3,
   "id": "5efec4cf",
   "metadata": {},
   "outputs": [],
   "source": [
    "# first, encoding errors and byte strings are removed\n",
    "training['full_text_strip'] = training['full_text'].apply(lambda x: x[2:-1].encode('utf-8').decode('unicode_escape'))"
   ]
  },
  {
   "cell_type": "code",
   "execution_count": 4,
   "id": "67673f95",
   "metadata": {},
   "outputs": [],
   "source": [
    "'''\n",
    "making two new features: \n",
    "    -full_text_chars: integer, number of characters after stripping the tweet\n",
    "    -full_text_words: integer, number of words in the tweet\n",
    "'''\n",
    "\n",
    "# make all lowercase for consistency \n",
    "training['full_text'] = training['full_text'].str.lower()\n",
    "\n",
    "# making columns for number of characters and number of words \n",
    "training['tweet_char_len'] = training['full_text_strip'].str.len()\n",
    "\n",
    "# splitting based on space, then counting the length of the split list = the number of words\n",
    "training['tweet_word_len'] = [len(i.split()) for i in training.full_text_strip]\n"
   ]
  },
  {
   "cell_type": "markdown",
   "id": "b22238d8",
   "metadata": {},
   "source": [
    "#### Hastag length"
   ]
  },
  {
   "cell_type": "code",
   "execution_count": 5,
   "id": "620342c2",
   "metadata": {},
   "outputs": [],
   "source": [
    "training['hashtag_count'] = training['hashtags'].apply(lambda x: \n",
    "                                                     len(x.split()) if type(x) == str else 0)"
   ]
  },
  {
   "cell_type": "code",
   "execution_count": 6,
   "id": "eab34c0b",
   "metadata": {},
   "outputs": [],
   "source": [
    "'''\n",
    "Making three new features: \n",
    "    -ht_count: integer, count of the number of hashtags in the hashtags column \n",
    "    -ht_lengths: list, where each value is the length of each hashtag\n",
    "    -ht_list: list, where each value is the string of each hashtag\n",
    "'''\n",
    "ht_lengths = [] \n",
    "ht_list = [] # this will be used for part B, making the pie charts! \n",
    "training['hashtags'] = training['hashtags'].astype('str')\n",
    "\n",
    "for hts in training.hashtags:\n",
    "    if hts != 'none':\n",
    "        # making all hashtags lowercase, and transforming the string of hashtags\n",
    "        # into a list of hashtags\n",
    "        ht_list.append(hts.lower().split())        \n",
    "        # keeping track of the length of each hashtag \n",
    "        lengths = []\n",
    "        for tag in hts.lower().split():\n",
    "            lengths.append(len(tag))\n",
    "        \n",
    "        ht_lengths.append(lengths)\n",
    "        \n",
    "    else:\n",
    "        ht_lengths.append(None)\n",
    "        ht_list.append(None)\n",
    "\n",
    "training['hashtag_lengths'] = ht_lengths\n",
    "training['hashtag_list'] = ht_list"
   ]
  },
  {
   "cell_type": "markdown",
   "id": "7f40b7f6",
   "metadata": {},
   "source": [
    "#### Summary table"
   ]
  },
  {
   "cell_type": "code",
   "execution_count": 7,
   "id": "9a3f7c5d",
   "metadata": {},
   "outputs": [],
   "source": [
    "# pandas describe() summary table will provide the mean, median, min, and max for tweet length and \n",
    "# hashtag count. since i have hashtag lengths stored into a list i will need to get this info seperately\n",
    "summary = training[['tweet_word_len', 'tweet_char_len', 'hashtag_count']].describe()"
   ]
  },
  {
   "cell_type": "code",
   "execution_count": 8,
   "id": "41e3d935",
   "metadata": {},
   "outputs": [],
   "source": [
    "# getting mean, meadian, min, max for hashtag lengths \n",
    "from statistics import median\n",
    "\n",
    "all_lengths = []\n",
    "for lengths in training.hashtag_lengths:\n",
    "    if lengths: \n",
    "        all_lengths += lengths \n",
    "\n",
    "ht_l_mean = sum(all_lengths) / len(all_lengths)\n",
    "ht_l_min = min(all_lengths)\n",
    "ht_l_max = max(all_lengths)\n",
    "ht_l_median = median(all_lengths)"
   ]
  },
  {
   "cell_type": "code",
   "execution_count": 9,
   "id": "45dc3996",
   "metadata": {},
   "outputs": [
    {
     "name": "stdout",
     "output_type": "stream",
     "text": [
      "TWEET & HASHTAG SUMMARY\n",
      "          Tweet length (characters)    Tweet length (number of words)    Number of hastags    Hashtag length\n",
      "------  ---------------------------  --------------------------------  -------------------  ----------------\n",
      "Mean                        144.178                           20.2973             0.492197           5.32054\n",
      "Min                           1                                1                  0                  1\n",
      "Median                      142                               20                  0                  3\n",
      "Max                         870                               89                 16                 87\n"
     ]
    }
   ],
   "source": [
    "from tabulate import tabulate\n",
    "\n",
    "table = {' ': ['Mean', 'Min', 'Median', 'Max'], \n",
    "         'Tweet length (characters)': [summary['tweet_char_len']['mean'],\n",
    "                                       summary['tweet_char_len']['min'],\n",
    "                                       summary['tweet_char_len']['50%'],\n",
    "                                       summary['tweet_char_len']['max']], \n",
    "         'Tweet length (number of words)':[summary['tweet_word_len']['mean'], \n",
    "                                           summary['tweet_word_len']['min'],\n",
    "                                           summary['tweet_word_len']['50%'],\n",
    "                                           summary['tweet_word_len']['max']],\n",
    "         'Number of hastags':[summary['hashtag_count']['mean'], \n",
    "                              summary['hashtag_count']['min'],\n",
    "                              summary['hashtag_count']['50%'],\n",
    "                              summary['hashtag_count']['max']],\n",
    "        'Hashtag length': [ht_l_mean, ht_l_min, ht_l_median, ht_l_max]}\n",
    "\n",
    "print('Tweet & Hashtag Summary'.upper())\n",
    "print(tabulate(table, headers='keys'))"
   ]
  },
  {
   "cell_type": "markdown",
   "id": "0de48240",
   "metadata": {},
   "source": [
    "## Part B\n",
    "Find the top ten most commonly used hashtags (hashtags column) in each country separately.\n",
    "Then, create pie charts (one pie chart per country) which show the distribution of these ten most\n",
    "commonly used hashtags for each country. Do you observe any patterns? What are the meanings\n",
    "/ interpretations of the hashtags you have identified? Write your findings in the report. "
   ]
  },
  {
   "cell_type": "code",
   "execution_count": 10,
   "id": "6ff06138",
   "metadata": {},
   "outputs": [
    {
     "data": {
      "text/plain": [
       "0         feminist AskMeAnything\n",
       "1                            nan\n",
       "2                            nan\n",
       "3                            nan\n",
       "4                            nan\n",
       "                   ...          \n",
       "407218                       nan\n",
       "407219                       nan\n",
       "407220                     dkpol\n",
       "407221                       nan\n",
       "407222                       nan\n",
       "Name: hashtags, Length: 407223, dtype: object"
      ]
     },
     "execution_count": 10,
     "metadata": {},
     "output_type": "execute_result"
    }
   ],
   "source": [
    "training['hashtags'].replace({'': np.nan}, inplace=True)\n",
    "training['hashtags']"
   ]
  },
  {
   "cell_type": "code",
   "execution_count": 11,
   "id": "f826b3d9",
   "metadata": {},
   "outputs": [],
   "source": [
    "\n",
    "training['hashtags_split'] = training['hashtags'].apply(lambda x: \n",
    "                                                        x.split() if x != 'nan' else [])"
   ]
  },
  {
   "cell_type": "code",
   "execution_count": 12,
   "id": "d4984d11",
   "metadata": {},
   "outputs": [],
   "source": [
    "hashtag_df = training.explode('hashtags_split')\n",
    "hashtags_count = hashtag_df.groupby(['country_user', 'hashtags_split']).size().reset_index(name='count')"
   ]
  },
  {
   "cell_type": "code",
   "execution_count": 13,
   "id": "10af95a0",
   "metadata": {
    "scrolled": false
   },
   "outputs": [
    {
     "data": {
      "text/html": [
       "<div>\n",
       "<style scoped>\n",
       "    .dataframe tbody tr th:only-of-type {\n",
       "        vertical-align: middle;\n",
       "    }\n",
       "\n",
       "    .dataframe tbody tr th {\n",
       "        vertical-align: top;\n",
       "    }\n",
       "\n",
       "    .dataframe thead th {\n",
       "        text-align: right;\n",
       "    }\n",
       "</style>\n",
       "<table border=\"1\" class=\"dataframe\">\n",
       "  <thead>\n",
       "    <tr style=\"text-align: right;\">\n",
       "      <th></th>\n",
       "      <th>country_user</th>\n",
       "      <th>hashtags_split</th>\n",
       "      <th>count</th>\n",
       "      <th>total_count</th>\n",
       "      <th>percentage</th>\n",
       "    </tr>\n",
       "  </thead>\n",
       "  <tbody>\n",
       "    <tr>\n",
       "      <th>0</th>\n",
       "      <td>belgium</td>\n",
       "      <td>begov</td>\n",
       "      <td>1291</td>\n",
       "      <td>4486</td>\n",
       "      <td>28.778422</td>\n",
       "    </tr>\n",
       "    <tr>\n",
       "      <th>1</th>\n",
       "      <td>belgium</td>\n",
       "      <td>COVID19</td>\n",
       "      <td>752</td>\n",
       "      <td>4486</td>\n",
       "      <td>16.763263</td>\n",
       "    </tr>\n",
       "    <tr>\n",
       "      <th>2</th>\n",
       "      <td>belgium</td>\n",
       "      <td>EU</td>\n",
       "      <td>382</td>\n",
       "      <td>4486</td>\n",
       "      <td>8.515381</td>\n",
       "    </tr>\n",
       "    <tr>\n",
       "      <th>3</th>\n",
       "      <td>belgium</td>\n",
       "      <td>RuleOfLaw</td>\n",
       "      <td>348</td>\n",
       "      <td>4486</td>\n",
       "      <td>7.757468</td>\n",
       "    </tr>\n",
       "    <tr>\n",
       "      <th>4</th>\n",
       "      <td>belgium</td>\n",
       "      <td>Wallonie</td>\n",
       "      <td>335</td>\n",
       "      <td>4486</td>\n",
       "      <td>7.467677</td>\n",
       "    </tr>\n",
       "    <tr>\n",
       "      <th>...</th>\n",
       "      <td>...</td>\n",
       "      <td>...</td>\n",
       "      <td>...</td>\n",
       "      <td>...</td>\n",
       "      <td>...</td>\n",
       "    </tr>\n",
       "    <tr>\n",
       "      <th>65</th>\n",
       "      <td>sweden</td>\n",
       "      <td>bopol</td>\n",
       "      <td>260</td>\n",
       "      <td>4248</td>\n",
       "      <td>6.120527</td>\n",
       "    </tr>\n",
       "    <tr>\n",
       "      <th>66</th>\n",
       "      <td>sweden</td>\n",
       "      <td>MigrationEU</td>\n",
       "      <td>212</td>\n",
       "      <td>4248</td>\n",
       "      <td>4.990584</td>\n",
       "    </tr>\n",
       "    <tr>\n",
       "      <th>67</th>\n",
       "      <td>sweden</td>\n",
       "      <td>EU</td>\n",
       "      <td>198</td>\n",
       "      <td>4248</td>\n",
       "      <td>4.661017</td>\n",
       "    </tr>\n",
       "    <tr>\n",
       "      <th>68</th>\n",
       "      <td>sweden</td>\n",
       "      <td>pldebatt</td>\n",
       "      <td>178</td>\n",
       "      <td>4248</td>\n",
       "      <td>4.190207</td>\n",
       "    </tr>\n",
       "    <tr>\n",
       "      <th>69</th>\n",
       "      <td>sweden</td>\n",
       "      <td>föpol</td>\n",
       "      <td>175</td>\n",
       "      <td>4248</td>\n",
       "      <td>4.119586</td>\n",
       "    </tr>\n",
       "  </tbody>\n",
       "</table>\n",
       "<p>70 rows × 5 columns</p>\n",
       "</div>"
      ],
      "text/plain": [
       "   country_user hashtags_split  count  total_count  percentage\n",
       "0       belgium          begov   1291         4486   28.778422\n",
       "1       belgium        COVID19    752         4486   16.763263\n",
       "2       belgium             EU    382         4486    8.515381\n",
       "3       belgium      RuleOfLaw    348         4486    7.757468\n",
       "4       belgium       Wallonie    335         4486    7.467677\n",
       "..          ...            ...    ...          ...         ...\n",
       "65       sweden          bopol    260         4248    6.120527\n",
       "66       sweden    MigrationEU    212         4248    4.990584\n",
       "67       sweden             EU    198         4248    4.661017\n",
       "68       sweden       pldebatt    178         4248    4.190207\n",
       "69       sweden          föpol    175         4248    4.119586\n",
       "\n",
       "[70 rows x 5 columns]"
      ]
     },
     "execution_count": 13,
     "metadata": {},
     "output_type": "execute_result"
    }
   ],
   "source": [
    "top_10_hashtags = hashtags_count.groupby('country_user').apply(lambda x: x.nlargest(10, 'count')).reset_index(drop=True)\n",
    "top_10_hashtags['total_count'] = top_10_hashtags.groupby('country_user')['count'].transform('sum')\n",
    "top_10_hashtags['percentage'] = (top_10_hashtags['count'] / top_10_hashtags['total_count']) * 100\n",
    "top_10_hashtags"
   ]
  },
  {
   "cell_type": "code",
   "execution_count": 14,
   "id": "b395ed57",
   "metadata": {
    "scrolled": false
   },
   "outputs": [
    {
     "data": {
      "image/png": "[encoded data removed]",
      "text/plain": [
       "<Figure size 640x480 with 1 Axes>"
      ]
     },
     "metadata": {},
     "output_type": "display_data"
    },
    {
     "data": {
      "image/png": "[encoded data removed]",
      "text/plain": [
       "<Figure size 640x480 with 1 Axes>"
      ]
     },
     "metadata": {},
     "output_type": "display_data"
    },
    {
     "data": {
      "image/png": "[encoded data removed]",
      "text/plain": [
       "<Figure size 640x480 with 1 Axes>"
      ]
     },
     "metadata": {},
     "output_type": "display_data"
    },
    {
     "data": {
      "image/png": "[encoded data removed]",
      "text/plain": [
       "<Figure size 640x480 with 1 Axes>"
      ]
     },
     "metadata": {},
     "output_type": "display_data"
    },
    {
     "data": {
      "image/png": "[encoded data removed]",
      "text/plain": [
       "<Figure size 640x480 with 1 Axes>"
      ]
     },
     "metadata": {},
     "output_type": "display_data"
    },
    {
     "data": {
      "image/png": "[encoded data removed]",
      "text/plain": [
       "<Figure size 640x480 with 1 Axes>"
      ]
     },
     "metadata": {},
     "output_type": "display_data"
    },
    {
     "data": {
      "image/png": "[encoded data removed]",
      "text/plain": [
       "<Figure size 640x480 with 1 Axes>"
      ]
     },
     "metadata": {},
     "output_type": "display_data"
    }
   ],
   "source": [
    "# making the pies \n",
    "import matplotlib.pyplot as plt\n",
    "\n",
    "countries = [c for c in top_10_hashtags.country_user.unique()]\n",
    "\n",
    "for country in countries: \n",
    "    \n",
    "    df = top_10_hashtags[top_10_hashtags['country_user'] == country]\n",
    "    \n",
    "    counts = df['count']\n",
    "    tags = df['hashtags_split']\n",
    "\n",
    "    plt.pie(counts, labels=tags, autopct='%.1f%%')\n",
    "    plt.title(f'Top hashtags for {country}'.upper())\n",
    "    plt.savefig(f'{country}_hashtags.png', transparent=True)\n",
    "    plt.show()\n"
   ]
  },
  {
   "cell_type": "markdown",
   "id": "3381af6b",
   "metadata": {},
   "source": [
    "## Part C \n",
    "Create a stacked bar chart (one stacked bar per country) that shows the percentage of political\n",
    "views associated with each country. [Create normalized bars to show percentages: minimum\n",
    "should be 0, maximum should be 1 (or 0% and 100%)]. Interpret your findings. Add your findings\n",
    "and the graphs to the report."
   ]
  },
  {
   "cell_type": "code",
   "execution_count": 15,
   "id": "7a280dd6",
   "metadata": {},
   "outputs": [],
   "source": [
    "# making dataframe of political spectrum counts grouped by country \n",
    "left = training[training['pol_spec_user'] == 'Left'].groupby('country_user').pol_spec_user.describe()['count']\n",
    "right = training[training['pol_spec_user'] == 'Right'].groupby('country_user').pol_spec_user.describe()['count']\n",
    "center = training[training['pol_spec_user'] == 'Center'].groupby('country_user').pol_spec_user.describe()['count']\n",
    "ind = training[training['pol_spec_user'] == 'Independent'].groupby('country_user').pol_spec_user.describe()['count']\n",
    "\n",
    "# transferring to dataframe for easier plotting\n",
    "df = pd.DataFrame()\n",
    "df['left'] = left\n",
    "df['right'] = right\n",
    "df['center'] = center\n",
    "df['independent'] = ind\n",
    "\n",
    "#repalcing NaN with 0 \n",
    "df = df.fillna(0)\n",
    "\n",
    "# normalizing the values to 0-100%\n",
    "df['left_n'] = 100 * df['left'] / (df['left'] + df['right'] + df['center'] + df['independent'])\n",
    "df['right_n'] = 100 * df['right'] / (df['left'] + df['right'] + df['center'] + df['independent'])\n",
    "df['center_n'] = 100 * df['center'] / (df['left'] + df['right'] + df['center'] + df['independent'])\n",
    "df['ind_n'] = 100 * df['independent'] / (df['left'] + df['right'] + df['center'] + df['independent'])"
   ]
  },
  {
   "cell_type": "code",
   "execution_count": 16,
   "id": "ab304a60",
   "metadata": {},
   "outputs": [
    {
     "data": {
      "image/png": "[encoded data removed]",
      "text/plain": [
       "<Figure size 640x480 with 1 Axes>"
      ]
     },
     "metadata": {},
     "output_type": "display_data"
    }
   ],
   "source": [
    "# plotting stacked bar\n",
    "plt.bar(df.index, df.left_n, color='tomato', label = 'Left')\n",
    "plt.bar(df.index, df.right_n, color='dodgerblue', label = 'Right', bottom = df.left_n)\n",
    "plt.bar(df.index, df.center_n, color='limegreen', label = 'Center', bottom = df.left_n + df.right_n)\n",
    "plt.bar(df.index, df.ind_n, color='magenta', label = 'Independent', bottom = df.left_n + df.right_n + df.center_n)\n",
    "plt.xticks(rotation=45, ha='right')\n",
    "plt.legend(loc=(1.01,.75))\n",
    "plt.ylabel('Proportion of users (%))')\n",
    "plt.xlabel('Country')\n",
    "plt.ylim([0, 100])\n",
    "plt.savefig('pol_views.png',bbox_inches='tight')\n",
    "plt.show()"
   ]
  },
  {
   "cell_type": "markdown",
   "id": "7294a5dd",
   "metadata": {},
   "source": [
    "## Part D \n",
    "Create a stacked bar chart that shows the distribution of genders by country. [Create normalized\n",
    "bars to show percentages: minimum should be 0, maximum should be 1 (or 0% and 100%)].\n",
    "Interpret your findings. Add your findings and the graphs to the report. (5 points) (2.5 points for\n",
    "graduate students)"
   ]
  },
  {
   "cell_type": "code",
   "execution_count": 17,
   "id": "40ada0a7",
   "metadata": {},
   "outputs": [],
   "source": [
    "# making datagrame for count of men and women grouped by country\n",
    "male = training[training['gender_user'] == 'Male'].groupby('country_user').gender_user.describe()['count']\n",
    "female = training[training['gender_user'] == 'Female'].groupby('country_user').gender_user.describe()['count']\n",
    "\n",
    "df['M'] = male\n",
    "df['F'] = female\n",
    "\n",
    "# normalizing male and female \n",
    "df['M_n'] = 100*df['M'] / (df['M'] + df['F']) \n",
    "df['F_n'] = 100*df['F'] / (df['M'] + df['F']) "
   ]
  },
  {
   "cell_type": "code",
   "execution_count": 18,
   "id": "27656a91",
   "metadata": {},
   "outputs": [
    {
     "data": {
      "image/png": "[encoded data removed]",
      "text/plain": [
       "<Figure size 640x480 with 1 Axes>"
      ]
     },
     "metadata": {},
     "output_type": "display_data"
    }
   ],
   "source": [
    "# making stacked bar \n",
    "plt.bar(df.index, df.M_n, color='dodgerblue', label = 'Male')\n",
    "plt.bar(df.index, df.F_n, color='hotpink', label = 'Female', bottom = df.M_n)\n",
    "plt.xticks(rotation=45, ha='right')\n",
    "plt.legend(loc=(1.01,.75))\n",
    "plt.ylabel('Percent of users (%)')\n",
    "plt.xlabel('Country')\n",
    "plt.ylim([0, 100])\n",
    "plt.savefig('gender.png', bbox_inches='tight')\n",
    "plt.show()"
   ]
  },
  {
   "cell_type": "code",
   "execution_count": 19,
   "id": "1866fc3a",
   "metadata": {},
   "outputs": [
    {
     "data": {
      "text/plain": [
       "gender_user\n",
       "Male      269821\n",
       "Female    137402\n",
       "Name: count, dtype: int64"
      ]
     },
     "execution_count": 19,
     "metadata": {},
     "output_type": "execute_result"
    }
   ],
   "source": [
    "# overall gender distribution \n",
    "training['gender_user'].value_counts()"
   ]
  },
  {
   "cell_type": "markdown",
   "id": "ba982ec5",
   "metadata": {},
   "source": [
    "# PART I: Section B "
   ]
  },
  {
   "cell_type": "markdown",
   "id": "38f7ac08",
   "metadata": {},
   "source": [
    "## Part A\n",
    "Write a ‘text cleaner’ function that does the following in the full_text column: \n",
    "*  remove stopwords \n",
    "*  remove all words that are shorter than 3 characters\n",
    "*  remove all links (starting with http)\n",
    "*  remove emojis\n",
    "* remove punctuation\n",
    "\n",
    "Attach the code you wrote to the lemmatizer.py file in the project folder. Run the lemmatizer function and create ‘cleaned and lemmatized’ version of text column. (You can name the new column as text_clean). After the cleaning, expand the table you have created in Section A) by calculating minimum, average, median, and maximum for the newly created text_clean column (#characters and #words)."
   ]
  },
  {
   "cell_type": "code",
   "execution_count": 15,
   "id": "fe7a3f44",
   "metadata": {},
   "outputs": [
    {
     "name": "stderr",
     "output_type": "stream",
     "text": [
      "[nltk_data] Downloading package stopwords to /Users/havu/nltk_data...\n",
      "[nltk_data]   Package stopwords is already up-to-date!\n"
     ]
    }
   ],
   "source": [
    "'''\n",
    "the tweet_cleaner function will take one string of text as the input. \n",
    "it will first tokenize the string, then it will remove: \n",
    "    -stopwords \n",
    "    -words < 3 characters \n",
    "    -links starting with http \n",
    "    -emojis\n",
    "\n",
    "Then the tokenized text will be scanned and any punctuation characters will be pulled out. \n",
    "\n",
    "The cleaned tokens will be rejoined into one string and returned. \n",
    "'''\n",
    "\n",
    "import nltk\n",
    "from nltk.corpus import stopwords\n",
    "from nltk.tokenize import word_tokenize\n",
    "import string\n",
    "import re\n",
    "\n",
    "nltk.download('stopwords')\n",
    "\n",
    "def tweet_cleaner(text, remove_mentions = False): \n",
    "    \n",
    "    # compile stop words from other languages\n",
    "    stop_words =  set(stopwords.words('english') + \n",
    "                     stopwords.words('swedish') + \n",
    "                     stopwords.words('dutch') + \n",
    "                     stopwords.words('danish') + \n",
    "                     stopwords.words('norwegian') + \n",
    "                     stopwords.words('german') + \n",
    "                     stopwords.words('french') + \n",
    "                     stopwords.words('finnish'))\n",
    "#     # tokenize \n",
    "#     tokens = word_tokenize(text)\n",
    "    \n",
    "#     # remove stopwords, links starting with http\n",
    "#     # make str lowercase\n",
    "#     tokens = [w.lower() for w in tokens \n",
    "#               if ((not w.lower() in stop_words) and \n",
    "#                   (not len(w) < 3) and \n",
    "#                   (not w.startswith('http')))]\n",
    "    \n",
    "#     # remove emoji \n",
    "#     tokens = [re.sub(r'[^\\x00-\\x7F]+','', w) for w in tokens]\n",
    "\n",
    "#     # remove punctuation \n",
    "#     tokens = [re.sub(r'[^\\w\\s]','', w) for w in tokens]\n",
    "     \n",
    "#     # remove anything < 3 characters again, since removing punctuation may \n",
    "#     # have shortened the character counts of words \n",
    "#     cleaned = [w for w in tokens if len(w) > 2]\n",
    "    \n",
    "    # remove stopwords \n",
    "    clean_tweet = [word for word in text.split() if word not in stop_words]\n",
    "    #remove links that start with http\n",
    "    clean_tweet = [re.sub(r\"http\\S+\", \"\", word) for word in clean_tweet]\n",
    "    #remove emojis\n",
    "    clean_tweet = [re.sub(r'[^\\x00-\\x7F]+','', word) for word in clean_tweet]\n",
    "    #remove punctuation\n",
    "    clean_tweet = [re.sub(r'[^\\w\\s]','', word) for word in clean_tweet]\n",
    "    #remove words shorter than 3 characters\n",
    "    clean_tweet = [word for word in clean_tweet if len(word) > 2]\n",
    "    \n",
    "    # rejoin into string and return                                                                         \n",
    "    return \" \".join(clean_tweet)"
   ]
  },
  {
   "cell_type": "code",
   "execution_count": 16,
   "id": "fa6989e1",
   "metadata": {},
   "outputs": [],
   "source": [
    "# Provided code \n",
    "from nltk.stem import WordNetLemmatizer\n",
    "from nltk.tokenize import word_tokenize\n",
    "from nltk.corpus import wordnet\n",
    "\n",
    "lemmatizer = WordNetLemmatizer()\n",
    "\n",
    "##Tags the words in the tweets\n",
    "def nltk_tag_to_wordnet_tag(nltk_tag):\n",
    "    if nltk_tag.startswith('J'):\n",
    "        return(wordnet.ADJ)\n",
    "    elif nltk_tag.startswith('V'):\n",
    "        return(wordnet.VERB)\n",
    "    elif nltk_tag.startswith('N'):\n",
    "        return(wordnet.NOUN)\n",
    "    elif nltk_tag.startswith('R'):\n",
    "        return(wordnet.ADV)\n",
    "    else:          \n",
    "        return(None)\n",
    "    \n",
    "##Lemmatizes the words in tweets and returns the cleaned and lemmatized tweet\n",
    "def lemmatize_tweet(tweet):\n",
    "    #tokenize the tweet and find the POS tag for each token\n",
    "    tweet = tweet_cleaner(tweet) #tweet_cleaner() will be the function you will write\n",
    "    nltk_tagged = nltk.pos_tag(nltk.word_tokenize(tweet))  \n",
    "    #tuple of (token, wordnet_tag)\n",
    "    wordnet_tagged = map(lambda x: (x[0], nltk_tag_to_wordnet_tag(x[1])), nltk_tagged)\n",
    "    lemmatized_tweet = []\n",
    "    for word, tag in wordnet_tagged:\n",
    "        if tag is None:\n",
    "            #if there is no available tag, append the token as is\n",
    "            lemmatized_tweet.append(word)\n",
    "        else:        \n",
    "            #else use the tag to lemmatize the token\n",
    "            lemmatized_tweet.append(lemmatizer.lemmatize(word, tag))\n",
    "    return(\" \".join(lemmatized_tweet))"
   ]
  },
  {
   "cell_type": "code",
   "execution_count": 17,
   "id": "a0a03b4a",
   "metadata": {},
   "outputs": [],
   "source": [
    "# lemmatizing + cleaning text \n",
    "cleaned = [lemmatize_tweet(training.full_text_strip[i]) for i \n",
    "           in range(0, len(training.full_text))]\n",
    "\n",
    "training['text_clean'] = cleaned\n",
    "training.to_csv('training_cleaned.csv', index=False) # saving so i don't have to re-run lemmatization "
   ]
  },
  {
   "cell_type": "code",
   "execution_count": 18,
   "id": "95585e2e",
   "metadata": {},
   "outputs": [
    {
     "data": {
      "text/html": [
       "<div>\n",
       "<style scoped>\n",
       "    .dataframe tbody tr th:only-of-type {\n",
       "        vertical-align: middle;\n",
       "    }\n",
       "\n",
       "    .dataframe tbody tr th {\n",
       "        vertical-align: top;\n",
       "    }\n",
       "\n",
       "    .dataframe thead th {\n",
       "        text-align: right;\n",
       "    }\n",
       "</style>\n",
       "<table border=\"1\" class=\"dataframe\">\n",
       "  <thead>\n",
       "    <tr style=\"text-align: right;\">\n",
       "      <th></th>\n",
       "      <th>text_clean_chars</th>\n",
       "      <th>text_clean_words</th>\n",
       "    </tr>\n",
       "  </thead>\n",
       "  <tbody>\n",
       "    <tr>\n",
       "      <th>count</th>\n",
       "      <td>407223.000000</td>\n",
       "      <td>407223.000000</td>\n",
       "    </tr>\n",
       "    <tr>\n",
       "      <th>mean</th>\n",
       "      <td>93.477100</td>\n",
       "      <td>11.803820</td>\n",
       "    </tr>\n",
       "    <tr>\n",
       "      <th>std</th>\n",
       "      <td>44.635866</td>\n",
       "      <td>5.773452</td>\n",
       "    </tr>\n",
       "    <tr>\n",
       "      <th>min</th>\n",
       "      <td>0.000000</td>\n",
       "      <td>0.000000</td>\n",
       "    </tr>\n",
       "    <tr>\n",
       "      <th>25%</th>\n",
       "      <td>67.000000</td>\n",
       "      <td>8.000000</td>\n",
       "    </tr>\n",
       "    <tr>\n",
       "      <th>50%</th>\n",
       "      <td>92.000000</td>\n",
       "      <td>11.000000</td>\n",
       "    </tr>\n",
       "    <tr>\n",
       "      <th>75%</th>\n",
       "      <td>109.000000</td>\n",
       "      <td>14.000000</td>\n",
       "    </tr>\n",
       "    <tr>\n",
       "      <th>max</th>\n",
       "      <td>757.000000</td>\n",
       "      <td>77.000000</td>\n",
       "    </tr>\n",
       "  </tbody>\n",
       "</table>\n",
       "</div>"
      ],
      "text/plain": [
       "       text_clean_chars  text_clean_words\n",
       "count     407223.000000     407223.000000\n",
       "mean          93.477100         11.803820\n",
       "std           44.635866          5.773452\n",
       "min            0.000000          0.000000\n",
       "25%           67.000000          8.000000\n",
       "50%           92.000000         11.000000\n",
       "75%          109.000000         14.000000\n",
       "max          757.000000         77.000000"
      ]
     },
     "execution_count": 18,
     "metadata": {},
     "output_type": "execute_result"
    }
   ],
   "source": [
    "training['text_clean'] = training['text_clean'].astype(str)\n",
    "\n",
    "# making columns for number of characters and number of words for lemmatized text\n",
    "training['text_clean_chars'] = training['text_clean'].str.len()\n",
    "training['text_clean_words'] = [len(i.split()) for i in training.text_clean]\n",
    "\n",
    "# getting mean, min, median, max for lemmatized text \n",
    "training[['text_clean_chars', 'text_clean_words']].describe()"
   ]
  },
  {
   "cell_type": "code",
   "execution_count": 19,
   "id": "7199e376",
   "metadata": {},
   "outputs": [],
   "source": [
    "'''\n",
    "Conducting additional text cleaning before lemmatization to remove user mentions.\n",
    "'''\n",
    "\n",
    "def determine_user_mentions(tweet): # Determine if tweet contains user mentions\n",
    "    mention_pattern = r'@(\\w+)'\n",
    "    mention = re.findall(mention_pattern, tweet)\n",
    "    return bool(mention)\n",
    "\n",
    "def remove_user_mentions(tweet): # Remove user mentions from tweet\n",
    "    mention_pattern = r'@(\\w+)'\n",
    "    return re.sub(mention_pattern, '', tweet)\n",
    "\n",
    "def extract_user_mentions(tweet): # Extract user mentions from tweet and return as a list\n",
    "    mention_pattern = r'@(\\w+)'\n",
    "    mentions = re.findall(mention_pattern, tweet)\n",
    "    return mentions if mentions else [] \n",
    "\n",
    "training['has_user_mentions'] = training['full_text_strip'].apply(lambda x: \n",
    "                                                            determine_user_mentions(x))\n",
    "training['user_mentions'] = training['full_text_strip'].apply(lambda x: \n",
    "                                                        extract_user_mentions(x))\n",
    "training['full_text_rm'] = training['full_text_strip'].apply(lambda x: \n",
    "                                                    remove_user_mentions(x))"
   ]
  },
  {
   "cell_type": "code",
   "execution_count": 22,
   "id": "0f8bd1fd",
   "metadata": {},
   "outputs": [],
   "source": [
    "# re-running lemmatization on tweets without user mentions \n",
    "training['text_clean_rm'] = training['full_text_rm'].apply(lambda x: lemmatize_tweet(x))"
   ]
  },
  {
   "cell_type": "markdown",
   "id": "44f29e1f",
   "metadata": {},
   "source": [
    "## Part B\n",
    "Using the code in the following link, perform LDA (i) and Non-negative Matrix Factorization (ii)\n",
    "for topic analysis. Please use the text_clean column you have created above. Set the number of\n",
    "clusters/topics to 10 (ten) and extract the topics in an unsupervised manner. Adjust any\n",
    "parameters as you see fit. Analyze the results. Compare the results of both models. Interpret your\n",
    "findings and add your findings to the report."
   ]
  },
  {
   "cell_type": "code",
   "execution_count": 25,
   "id": "57acd8e0",
   "metadata": {},
   "outputs": [],
   "source": [
    "import warnings\n",
    "warnings.filterwarnings('ignore')"
   ]
  },
  {
   "cell_type": "code",
   "execution_count": null,
   "id": "c4642fbd",
   "metadata": {
    "scrolled": false
   },
   "outputs": [],
   "source": [
    "\n",
    "'''\n",
    "Author: Olivier Grisel <olivier.grisel@ensta.org>         \n",
    "    Lars Buitinck\n",
    "    Chyi-Kwei Yau <chyikwei.yau@gmail.com>\n",
    "     License: BSD 3 clause\n",
    "\n",
    "From: https://scikit-learn.org/stable/auto_examples/applications/plot_topics_extraction_with_nmf_lda.html \n",
    "'''\n",
    "\n",
    "from time import time\n",
    "from sklearn.decomposition import NMF, LatentDirichletAllocation, MiniBatchNMF\n",
    "from sklearn.feature_extraction.text import CountVectorizer, TfidfVectorizer\n",
    "\n",
    "n_samples = 2000\n",
    "n_features = 1000\n",
    "n_components = 10\n",
    "n_top_words = 20\n",
    "batch_size = 128\n",
    "init = \"nndsvda\"\n",
    "\n",
    "\n",
    "def plot_top_words(model, feature_names, n_top_words, title):\n",
    "    fig, axes = plt.subplots(2, 5, figsize=(30, 15), sharex=True)\n",
    "    axes = axes.flatten()\n",
    "    for topic_idx, topic in enumerate(model.components_):\n",
    "        top_features_ind = topic.argsort()[: -n_top_words - 1 : -1]\n",
    "        top_features = [feature_names[i] for i in top_features_ind]\n",
    "        weights = topic[top_features_ind]\n",
    "\n",
    "        ax = axes[topic_idx]\n",
    "        ax.barh(top_features, weights, height=0.7)\n",
    "        ax.set_title(f\"Topic {topic_idx +1}\", fontdict={\"fontsize\": 30})\n",
    "        ax.invert_yaxis()\n",
    "        ax.tick_params(axis=\"both\", which=\"major\", labelsize=20)\n",
    "        for i in \"top right left\".split():\n",
    "            ax.spines[i].set_visible(False)\n",
    "        fig.suptitle(title, fontsize=40)\n",
    "\n",
    "    plt.subplots_adjust(top=0.90, bottom=0.05, wspace=0.90, hspace=0.3)\n",
    "    plt.savefig(f\"{title}.png\", bbox_inches='tight')\n",
    "    plt.show()\n",
    "\n",
    "\n",
    "# Load the 20 newsgroups dataset and vectorize it. We use a few heuristics\n",
    "# to filter out useless terms early on: the posts are stripped of headers,\n",
    "# footers and quoted replies, and common English words, words occurring in\n",
    "# only one document or in at least 95% of the documents are removed.\n",
    "\n",
    "# print(\"Loading dataset...\")\n",
    "# t0 = time()\n",
    "# data, _ = fetch_20newsgroups(\n",
    "#     shuffle=True,\n",
    "#     random_state=1,\n",
    "#     remove=(\"headers\", \"footers\", \"quotes\"),\n",
    "#     return_X_y=True,\n",
    "# )\n",
    "# data_samples = data[:n_samples]\n",
    "# print(\"done in %0.3fs.\" % (time() - t0))\n",
    "\n",
    "data = training['text_clean']\n",
    "data_samples = data[:n_samples]\n",
    "\n",
    "# Use tf-idf features for NMF.\n",
    "print(\"Extracting tf-idf features for NMF...\")\n",
    "tfidf_vectorizer = TfidfVectorizer(\n",
    "    max_df=0.95, min_df=2, max_features=n_features, stop_words=\"english\"\n",
    ")\n",
    "t0 = time()\n",
    "tfidf = tfidf_vectorizer.fit_transform(data_samples)\n",
    "print(\"done in %0.3fs.\" % (time() - t0))\n",
    "\n",
    "# Use tf (raw term count) features for LDA.\n",
    "print(\"Extracting tf features for LDA...\")\n",
    "tf_vectorizer = CountVectorizer(\n",
    "    max_df=0.95, min_df=2, max_features=n_features, stop_words=\"english\"\n",
    ")\n",
    "t0 = time()\n",
    "tf = tf_vectorizer.fit_transform(data_samples)\n",
    "print(\"done in %0.3fs.\" % (time() - t0))\n",
    "print()\n",
    "\n",
    "# Fit the NMF model\n",
    "print(\n",
    "    \"Fitting the NMF model (Frobenius norm) with tf-idf features, \"\n",
    "    \"n_samples=%d and n_features=%d...\" % (n_samples, n_features)\n",
    ")\n",
    "t0 = time()\n",
    "nmf = NMF(\n",
    "    n_components=n_components,\n",
    "    random_state=1,\n",
    "    init=init,\n",
    "    beta_loss=\"frobenius\",\n",
    "    alpha_W=0.00005,\n",
    "    alpha_H=0.00005,\n",
    "    l1_ratio=1,\n",
    ").fit(tfidf)\n",
    "print(\"done in %0.3fs.\" % (time() - t0))\n",
    "\n",
    "\n",
    "tfidf_feature_names = tfidf_vectorizer.get_feature_names_out()\n",
    "plot_top_words(\n",
    "    nmf, tfidf_feature_names, n_top_words, \"Topics in NMF model (Frobenius norm)\"\n",
    ")\n",
    "\n",
    "# Fit the NMF model\n",
    "print(\n",
    "    \"\\n\" * 2,\n",
    "    \"Fitting the NMF model (generalized Kullback-Leibler \"\n",
    "    \"divergence) with tf-idf features, n_samples=%d and n_features=%d...\"\n",
    "    % (n_samples, n_features),\n",
    ")\n",
    "t0 = time()\n",
    "nmf = NMF(\n",
    "    n_components=n_components,\n",
    "    random_state=1,\n",
    "    init=init,\n",
    "    beta_loss=\"kullback-leibler\",\n",
    "    solver=\"mu\",\n",
    "    max_iter=1000,\n",
    "    alpha_W=0.00005,\n",
    "    alpha_H=0.00005,\n",
    "    l1_ratio=0.5,\n",
    ").fit(tfidf)\n",
    "print(\"done in %0.3fs.\" % (time() - t0))\n",
    "\n",
    "tfidf_feature_names = tfidf_vectorizer.get_feature_names_out()\n",
    "plot_top_words(\n",
    "    nmf,\n",
    "    tfidf_feature_names,\n",
    "    n_top_words,\n",
    "    \"Topics in NMF model (generalized Kullback-Leibler divergence)\",\n",
    ")\n",
    "\n",
    "# Fit the MiniBatchNMF model\n",
    "print(\n",
    "    \"\\n\" * 2,\n",
    "    \"Fitting the MiniBatchNMF model (Frobenius norm) with tf-idf \"\n",
    "    \"features, n_samples=%d and n_features=%d, batch_size=%d...\"\n",
    "    % (n_samples, n_features, batch_size),\n",
    ")\n",
    "t0 = time()\n",
    "mbnmf = MiniBatchNMF(\n",
    "    n_components=n_components,\n",
    "    random_state=1,\n",
    "    batch_size=batch_size,\n",
    "    init=init,\n",
    "    beta_loss=\"frobenius\",\n",
    "    alpha_W=0.00005,\n",
    "    alpha_H=0.00005,\n",
    "    l1_ratio=0.5,\n",
    ").fit(tfidf)\n",
    "print(\"done in %0.3fs.\" % (time() - t0))\n",
    "\n",
    "\n",
    "tfidf_feature_names = tfidf_vectorizer.get_feature_names_out()\n",
    "plot_top_words(\n",
    "    mbnmf,\n",
    "    tfidf_feature_names,\n",
    "    n_top_words,\n",
    "    \"Topics in MiniBatchNMF model (Frobenius norm)\",\n",
    ")\n",
    "\n",
    "# Fit the MiniBatchNMF model\n",
    "print(\n",
    "    \"\\n\" * 2,\n",
    "    \"Fitting the MiniBatchNMF model (generalized Kullback-Leibler \"\n",
    "    \"divergence) with tf-idf features, n_samples=%d and n_features=%d, \"\n",
    "    \"batch_size=%d...\" % (n_samples, n_features, batch_size),\n",
    ")\n",
    "t0 = time()\n",
    "mbnmf = MiniBatchNMF(\n",
    "    n_components=n_components,\n",
    "    random_state=1,\n",
    "    batch_size=batch_size,\n",
    "    init=init,\n",
    "    beta_loss=\"kullback-leibler\",\n",
    "    alpha_W=0.00005,\n",
    "    alpha_H=0.00005,\n",
    "    l1_ratio=0.5,\n",
    ").fit(tfidf)\n",
    "print(\"done in %0.3fs.\" % (time() - t0))\n",
    "\n",
    "tfidf_feature_names = tfidf_vectorizer.get_feature_names_out()\n",
    "plot_top_words(\n",
    "    mbnmf,\n",
    "    tfidf_feature_names,\n",
    "    n_top_words,\n",
    "    \"Topics in MiniBatchNMF model (generalized Kullback-Leibler divergence)\",\n",
    ")\n",
    "\n",
    "print(\n",
    "    \"\\n\" * 2,\n",
    "    \"Fitting LDA models with tf features, n_samples=%d and n_features=%d...\"\n",
    "    % (n_samples, n_features),\n",
    ")\n",
    "lda = LatentDirichletAllocation(\n",
    "    n_components=n_components,\n",
    "    max_iter=5,\n",
    "    learning_method=\"online\",\n",
    "    learning_offset=50.0,\n",
    "    random_state=0,\n",
    ")\n",
    "t0 = time()\n",
    "lda.fit(tf)\n",
    "print(\"done in %0.3fs.\" % (time() - t0))\n",
    "\n",
    "tf_feature_names = tf_vectorizer.get_feature_names_out()\n",
    "plot_top_words(lda, tf_feature_names, n_top_words, \"Topics in LDA model\")"
   ]
  },
  {
   "cell_type": "markdown",
   "id": "0ccd7c56",
   "metadata": {},
   "source": [
    "# PART II: MODELING"
   ]
  },
  {
   "cell_type": "markdown",
   "id": "9e7fc889",
   "metadata": {},
   "source": [
    "## Additional EDA\n",
    "\n",
    "### 1. Class/gender imbalance"
   ]
  },
  {
   "cell_type": "code",
   "execution_count": null,
   "id": "3ea210df",
   "metadata": {},
   "outputs": [],
   "source": [
    "'''\n",
    "Earlier descriptive analyses revealed an imbalance in gender and political spectrum. \n",
    "Looking to see if there is a great imbalance in gender among the different political spectrum views. \n",
    "\n",
    "Answer; there isn't an uneven imbalance in gender across the political spectrum. While there are more males \n",
    "than females overall, the proportion of men and women is relatively consistent across each political \n",
    "spectrum label. \n",
    "'''\n",
    "\n",
    "male_spec = training[training['gender_user'] == 'Male'].pol_spec_user.value_counts()\n",
    "female_spec = training[training['gender_user'] == 'Female'].pol_spec_user.value_counts()\n",
    "\n",
    "plt.bar(['Left', 'Right', 'Center', 'Independent'], male_spec, color='dodgerblue', label = 'Male')\n",
    "plt.bar(['Left', 'Right', 'Center', 'Independent'], female_spec, color='hotpink', label = 'Female', \n",
    "        bottom = male_spec)\n",
    "plt.xticks(rotation=0, ha='center')\n",
    "plt.title('Male & female users by political spectrum')\n",
    "plt.savefig('gender_pol_spec.png', bbox_inches='tight')\n",
    "plt.show()\n"
   ]
  },
  {
   "cell_type": "code",
   "execution_count": null,
   "id": "d027cc78",
   "metadata": {},
   "outputs": [],
   "source": [
    "training['pol_spec_user'].value_counts()"
   ]
  },
  {
   "cell_type": "code",
   "execution_count": null,
   "id": "ceb4903b",
   "metadata": {},
   "outputs": [],
   "source": [
    "703 / len(training)"
   ]
  },
  {
   "cell_type": "markdown",
   "id": "e3f8ca4d",
   "metadata": {},
   "source": [
    "### 2. Representation of countries"
   ]
  },
  {
   "cell_type": "code",
   "execution_count": null,
   "id": "b01c78a5",
   "metadata": {},
   "outputs": [],
   "source": [
    "training['country_user'].value_counts() , training['country_user'].value_counts() / (len(training.country_user))"
   ]
  },
  {
   "cell_type": "markdown",
   "id": "63b4878a",
   "metadata": {},
   "source": [
    "### 3. Null values \n",
    "All null values are either in the `hasthag_lengths`, or `in_reply_to_screen_name` collumns, meaning these tweets aren't replies or don't have hashtags. "
   ]
  },
  {
   "cell_type": "code",
   "execution_count": null,
   "id": "5c126b97",
   "metadata": {},
   "outputs": [],
   "source": [
    "training.isnull().sum() "
   ]
  },
  {
   "cell_type": "markdown",
   "id": "980d1f73",
   "metadata": {},
   "source": [
    "### 4. Investigating in-reply-to-screen name"
   ]
  },
  {
   "cell_type": "code",
   "execution_count": null,
   "id": "89b1d8cc",
   "metadata": {
    "scrolled": false
   },
   "outputs": [],
   "source": [
    "''' \n",
    "investigating if the in-reply-to-sreenname has an bearing on political specturm, gender, or country of the \n",
    "tweeting user. conducting this investigation for the top-20 most popular in-reply screennames. \n",
    "\n",
    "answer: yes, the in-reply-to screenname is a strong indicator of the political specturm, gender, and country of \n",
    "the tweeting user. \n",
    "'''\n",
    "\n",
    "# generating list of the top-20 most popular in-reply screennames (sns)\n",
    "popular_reply = training['in_reply_to_screen_name'].value_counts().sort_values(ascending=False).head(20)\n",
    "sns = [i for i in popular_reply.index]\n",
    "\n",
    "# initializing empty lists to hold results\n",
    "totals = []\n",
    "males, females = [], []\n",
    "lefts, rights, cents, inds = [], [], [], []\n",
    "\n",
    "for sn in sns: \n",
    "    df = training[training['in_reply_to_screen_name'] == sn]\n",
    "    totals.append(len(df))\n",
    "    \n",
    "    # gender proportion \n",
    "    male = len(df[df['gender_user'] == 'Male']) / len(df)\n",
    "    female = len(df[df['gender_user'] == 'Female']) /len(df)\n",
    "    males.append(male)\n",
    "    females.append(female)\n",
    "    \n",
    "    # pol spec proportion \n",
    "    left = len(df[df['pol_spec_user'] == 'Left']) / len(df)\n",
    "    right = len(df[df['pol_spec_user'] == 'Right']) / len(df)\n",
    "    center = len(df[df['pol_spec_user'] == 'Center']) / len(df)\n",
    "    indep = len(df[df['pol_spec_user'] == 'Independent']) / len(df)\n",
    "    lefts.append(left)\n",
    "    rights.append(right)\n",
    "    cents.append(center)\n",
    "    inds.append(indep)\n",
    "\n",
    "# joining into dataframe to view as a table\n",
    "sn_df = pd.DataFrame({'screen_name': sns, \n",
    "                      'total_replies': totals,\n",
    "                      'prop_male': males, \n",
    "                      'prop_female': females, \n",
    "                      'prop_left': lefts, \n",
    "                      'prop_right': rights, \n",
    "                      'prop_cent': cents, \n",
    "                      'prop_ind': inds})\n",
    "sn_df  "
   ]
  },
  {
   "cell_type": "markdown",
   "id": "3af8c420",
   "metadata": {},
   "source": [
    "### 5. Re-tweet investigation"
   ]
  },
  {
   "cell_type": "code",
   "execution_count": null,
   "id": "0972b941",
   "metadata": {},
   "outputs": [],
   "source": [
    "training.head(2)\n",
    "# if full_text_strip has RT at start -- it is a retweet"
   ]
  },
  {
   "cell_type": "code",
   "execution_count": 26,
   "id": "53410def",
   "metadata": {},
   "outputs": [],
   "source": [
    "'''\n",
    "making two new features: \n",
    "1. `retweet`: binary 1,0 for if a tweet is a retweet\n",
    "2. `rewtweet_user`: the screenname of the user who wrote the retweet \n",
    "'''\n",
    "\n",
    "retweet = []\n",
    "retweet_user = []\n",
    "for tweet in training.full_text_strip:\n",
    "    # determine if it's a retweet or not \n",
    "    if tweet.startswith('RT'):\n",
    "        retweet.append(1)\n",
    "        \n",
    "        # get the user screenname from the list \n",
    "        user = tweet.split()[1]\n",
    "        retweet_user.append(user[1:len(user)-1])\n",
    "\n",
    "    else:\n",
    "        retweet.append(0)\n",
    "        retweet_user.append(None)\n",
    "\n",
    "training['retweet'] = retweet\n",
    "training['retweet_user'] = retweet_user"
   ]
  },
  {
   "cell_type": "code",
   "execution_count": 27,
   "id": "3865137d",
   "metadata": {},
   "outputs": [],
   "source": [
    "training['retweet_user'].replace([\"\"], np.nan, inplace=True)"
   ]
  },
  {
   "cell_type": "code",
   "execution_count": 28,
   "id": "343d6553",
   "metadata": {},
   "outputs": [
    {
     "data": {
      "text/html": [
       "<div>\n",
       "<style scoped>\n",
       "    .dataframe tbody tr th:only-of-type {\n",
       "        vertical-align: middle;\n",
       "    }\n",
       "\n",
       "    .dataframe tbody tr th {\n",
       "        vertical-align: top;\n",
       "    }\n",
       "\n",
       "    .dataframe thead th {\n",
       "        text-align: right;\n",
       "    }\n",
       "</style>\n",
       "<table border=\"1\" class=\"dataframe\">\n",
       "  <thead>\n",
       "    <tr style=\"text-align: right;\">\n",
       "      <th></th>\n",
       "      <th>screen_name</th>\n",
       "      <th>total_retweets</th>\n",
       "      <th>prop_male</th>\n",
       "      <th>prop_female</th>\n",
       "      <th>prop_left</th>\n",
       "      <th>prop_right</th>\n",
       "      <th>prop_cent</th>\n",
       "      <th>prop_ind</th>\n",
       "    </tr>\n",
       "  </thead>\n",
       "  <tbody>\n",
       "    <tr>\n",
       "      <th>0</th>\n",
       "      <td>labour</td>\n",
       "      <td>1462</td>\n",
       "      <td>0.756498</td>\n",
       "      <td>0.243502</td>\n",
       "      <td>1.000000</td>\n",
       "      <td>0.000000</td>\n",
       "      <td>0.000000</td>\n",
       "      <td>0.000000</td>\n",
       "    </tr>\n",
       "    <tr>\n",
       "      <th>1</th>\n",
       "      <td>eucopresident</td>\n",
       "      <td>1180</td>\n",
       "      <td>0.982203</td>\n",
       "      <td>0.017797</td>\n",
       "      <td>0.011864</td>\n",
       "      <td>0.967797</td>\n",
       "      <td>0.020339</td>\n",
       "      <td>0.000000</td>\n",
       "    </tr>\n",
       "    <tr>\n",
       "      <th>2</th>\n",
       "      <td>Civita_</td>\n",
       "      <td>798</td>\n",
       "      <td>0.010025</td>\n",
       "      <td>0.989975</td>\n",
       "      <td>0.002506</td>\n",
       "      <td>0.996241</td>\n",
       "      <td>0.001253</td>\n",
       "      <td>0.000000</td>\n",
       "    </tr>\n",
       "    <tr>\n",
       "      <th>3</th>\n",
       "      <td>cdenv</td>\n",
       "      <td>782</td>\n",
       "      <td>0.998721</td>\n",
       "      <td>0.001279</td>\n",
       "      <td>0.000000</td>\n",
       "      <td>0.001279</td>\n",
       "      <td>0.998721</td>\n",
       "      <td>0.000000</td>\n",
       "    </tr>\n",
       "    <tr>\n",
       "      <th>4</th>\n",
       "      <td>fiannafailparty</td>\n",
       "      <td>720</td>\n",
       "      <td>1.000000</td>\n",
       "      <td>0.000000</td>\n",
       "      <td>0.000000</td>\n",
       "      <td>0.000000</td>\n",
       "      <td>1.000000</td>\n",
       "      <td>0.000000</td>\n",
       "    </tr>\n",
       "    <tr>\n",
       "      <th>5</th>\n",
       "      <td>EU_Commission</td>\n",
       "      <td>697</td>\n",
       "      <td>0.725968</td>\n",
       "      <td>0.274032</td>\n",
       "      <td>0.407461</td>\n",
       "      <td>0.397418</td>\n",
       "      <td>0.195122</td>\n",
       "      <td>0.000000</td>\n",
       "    </tr>\n",
       "    <tr>\n",
       "      <th>6</th>\n",
       "      <td>PSofficiel</td>\n",
       "      <td>547</td>\n",
       "      <td>0.930530</td>\n",
       "      <td>0.069470</td>\n",
       "      <td>1.000000</td>\n",
       "      <td>0.000000</td>\n",
       "      <td>0.000000</td>\n",
       "      <td>0.000000</td>\n",
       "    </tr>\n",
       "    <tr>\n",
       "      <th>7</th>\n",
       "      <td>socialdemokrat</td>\n",
       "      <td>516</td>\n",
       "      <td>0.232558</td>\n",
       "      <td>0.767442</td>\n",
       "      <td>0.998062</td>\n",
       "      <td>0.001938</td>\n",
       "      <td>0.000000</td>\n",
       "      <td>0.000000</td>\n",
       "    </tr>\n",
       "    <tr>\n",
       "      <th>8</th>\n",
       "      <td>socialdep</td>\n",
       "      <td>495</td>\n",
       "      <td>0.391919</td>\n",
       "      <td>0.608081</td>\n",
       "      <td>0.995960</td>\n",
       "      <td>0.000000</td>\n",
       "      <td>0.004040</td>\n",
       "      <td>0.000000</td>\n",
       "    </tr>\n",
       "    <tr>\n",
       "      <th>9</th>\n",
       "      <td>openvld</td>\n",
       "      <td>468</td>\n",
       "      <td>0.538462</td>\n",
       "      <td>0.461538</td>\n",
       "      <td>0.000000</td>\n",
       "      <td>0.997863</td>\n",
       "      <td>0.002137</td>\n",
       "      <td>0.000000</td>\n",
       "    </tr>\n",
       "    <tr>\n",
       "      <th>10</th>\n",
       "      <td>FineGael</td>\n",
       "      <td>439</td>\n",
       "      <td>0.788155</td>\n",
       "      <td>0.211845</td>\n",
       "      <td>0.000000</td>\n",
       "      <td>1.000000</td>\n",
       "      <td>0.000000</td>\n",
       "      <td>0.000000</td>\n",
       "    </tr>\n",
       "    <tr>\n",
       "      <th>11</th>\n",
       "      <td>dfatirl</td>\n",
       "      <td>425</td>\n",
       "      <td>0.988235</td>\n",
       "      <td>0.011765</td>\n",
       "      <td>0.070588</td>\n",
       "      <td>0.917647</td>\n",
       "      <td>0.011765</td>\n",
       "      <td>0.000000</td>\n",
       "    </tr>\n",
       "    <tr>\n",
       "      <th>12</th>\n",
       "      <td>SUN_Movement</td>\n",
       "      <td>406</td>\n",
       "      <td>0.000000</td>\n",
       "      <td>1.000000</td>\n",
       "      <td>0.000000</td>\n",
       "      <td>0.000000</td>\n",
       "      <td>1.000000</td>\n",
       "      <td>0.000000</td>\n",
       "    </tr>\n",
       "    <tr>\n",
       "      <th>13</th>\n",
       "      <td>wef</td>\n",
       "      <td>402</td>\n",
       "      <td>0.880597</td>\n",
       "      <td>0.119403</td>\n",
       "      <td>0.109453</td>\n",
       "      <td>0.746269</td>\n",
       "      <td>0.144279</td>\n",
       "      <td>0.000000</td>\n",
       "    </tr>\n",
       "    <tr>\n",
       "      <th>14</th>\n",
       "      <td>KirkensNodhjelp</td>\n",
       "      <td>402</td>\n",
       "      <td>0.995025</td>\n",
       "      <td>0.004975</td>\n",
       "      <td>0.014925</td>\n",
       "      <td>0.000000</td>\n",
       "      <td>0.985075</td>\n",
       "      <td>0.000000</td>\n",
       "    </tr>\n",
       "    <tr>\n",
       "      <th>15</th>\n",
       "      <td>susannasilfver</td>\n",
       "      <td>388</td>\n",
       "      <td>0.994845</td>\n",
       "      <td>0.005155</td>\n",
       "      <td>0.000000</td>\n",
       "      <td>0.997423</td>\n",
       "      <td>0.002577</td>\n",
       "      <td>0.000000</td>\n",
       "    </tr>\n",
       "    <tr>\n",
       "      <th>16</th>\n",
       "      <td>vonderleyen</td>\n",
       "      <td>386</td>\n",
       "      <td>0.601036</td>\n",
       "      <td>0.398964</td>\n",
       "      <td>0.354922</td>\n",
       "      <td>0.479275</td>\n",
       "      <td>0.158031</td>\n",
       "      <td>0.007772</td>\n",
       "    </tr>\n",
       "    <tr>\n",
       "      <th>17</th>\n",
       "      <td>BouwendNL</td>\n",
       "      <td>374</td>\n",
       "      <td>1.000000</td>\n",
       "      <td>0.000000</td>\n",
       "      <td>0.000000</td>\n",
       "      <td>0.000000</td>\n",
       "      <td>1.000000</td>\n",
       "      <td>0.000000</td>\n",
       "    </tr>\n",
       "    <tr>\n",
       "      <th>18</th>\n",
       "      <td>Spolitik</td>\n",
       "      <td>373</td>\n",
       "      <td>0.630027</td>\n",
       "      <td>0.369973</td>\n",
       "      <td>0.970509</td>\n",
       "      <td>0.026810</td>\n",
       "      <td>0.002681</td>\n",
       "      <td>0.000000</td>\n",
       "    </tr>\n",
       "    <tr>\n",
       "      <th>19</th>\n",
       "      <td>de_NVA</td>\n",
       "      <td>362</td>\n",
       "      <td>0.906077</td>\n",
       "      <td>0.093923</td>\n",
       "      <td>0.000000</td>\n",
       "      <td>1.000000</td>\n",
       "      <td>0.000000</td>\n",
       "      <td>0.000000</td>\n",
       "    </tr>\n",
       "  </tbody>\n",
       "</table>\n",
       "</div>"
      ],
      "text/plain": [
       "        screen_name  total_retweets  prop_male  prop_female  prop_left  \\\n",
       "0            labour            1462   0.756498     0.243502   1.000000   \n",
       "1     eucopresident            1180   0.982203     0.017797   0.011864   \n",
       "2           Civita_             798   0.010025     0.989975   0.002506   \n",
       "3             cdenv             782   0.998721     0.001279   0.000000   \n",
       "4   fiannafailparty             720   1.000000     0.000000   0.000000   \n",
       "5     EU_Commission             697   0.725968     0.274032   0.407461   \n",
       "6        PSofficiel             547   0.930530     0.069470   1.000000   \n",
       "7    socialdemokrat             516   0.232558     0.767442   0.998062   \n",
       "8         socialdep             495   0.391919     0.608081   0.995960   \n",
       "9           openvld             468   0.538462     0.461538   0.000000   \n",
       "10         FineGael             439   0.788155     0.211845   0.000000   \n",
       "11          dfatirl             425   0.988235     0.011765   0.070588   \n",
       "12     SUN_Movement             406   0.000000     1.000000   0.000000   \n",
       "13              wef             402   0.880597     0.119403   0.109453   \n",
       "14  KirkensNodhjelp             402   0.995025     0.004975   0.014925   \n",
       "15   susannasilfver             388   0.994845     0.005155   0.000000   \n",
       "16      vonderleyen             386   0.601036     0.398964   0.354922   \n",
       "17        BouwendNL             374   1.000000     0.000000   0.000000   \n",
       "18         Spolitik             373   0.630027     0.369973   0.970509   \n",
       "19           de_NVA             362   0.906077     0.093923   0.000000   \n",
       "\n",
       "    prop_right  prop_cent  prop_ind  \n",
       "0     0.000000   0.000000  0.000000  \n",
       "1     0.967797   0.020339  0.000000  \n",
       "2     0.996241   0.001253  0.000000  \n",
       "3     0.001279   0.998721  0.000000  \n",
       "4     0.000000   1.000000  0.000000  \n",
       "5     0.397418   0.195122  0.000000  \n",
       "6     0.000000   0.000000  0.000000  \n",
       "7     0.001938   0.000000  0.000000  \n",
       "8     0.000000   0.004040  0.000000  \n",
       "9     0.997863   0.002137  0.000000  \n",
       "10    1.000000   0.000000  0.000000  \n",
       "11    0.917647   0.011765  0.000000  \n",
       "12    0.000000   1.000000  0.000000  \n",
       "13    0.746269   0.144279  0.000000  \n",
       "14    0.000000   0.985075  0.000000  \n",
       "15    0.997423   0.002577  0.000000  \n",
       "16    0.479275   0.158031  0.007772  \n",
       "17    0.000000   1.000000  0.000000  \n",
       "18    0.026810   0.002681  0.000000  \n",
       "19    1.000000   0.000000  0.000000  "
      ]
     },
     "execution_count": 28,
     "metadata": {},
     "output_type": "execute_result"
    }
   ],
   "source": [
    "'''\n",
    "repeating the same process that was done for reply tweets -- determining if the retweeting screenname has any \n",
    "impact on the policitical specturm of the user, country, or gender doing this process for the top-20 \n",
    "most common retweeting users. \n",
    "\n",
    "spoiler alert, it does. the retweet user is a very strong indicator of politicla spectrum. \n",
    "'''\n",
    "\n",
    "# making a list of the top 20 retweet users \n",
    "top_rt_users = training[training['retweet'] ==1].retweet_user.value_counts().sort_values(ascending=False).head(20)\n",
    "users = [i for i in top_rt_users.index]\n",
    "\n",
    "# initializing empty lists to hold results\n",
    "totals = []\n",
    "males, females = [], []\n",
    "lefts, rights, cents, inds = [], [], [], []\n",
    "\n",
    "for user in users: \n",
    "    df = training[training['retweet_user'] == user]\n",
    "    totals.append(len(df))\n",
    "    \n",
    "    # gender proportion \n",
    "    male = len(df[df['gender_user'] == 'Male']) / len(df)\n",
    "    female = len(df[df['gender_user'] == 'Female']) /len(df)\n",
    "    males.append(male)\n",
    "    females.append(female)\n",
    "    \n",
    "    # pol spec proportion \n",
    "    left = len(df[df['pol_spec_user'] == 'Left']) / len(df)\n",
    "    right = len(df[df['pol_spec_user'] == 'Right']) / len(df)\n",
    "    center = len(df[df['pol_spec_user'] == 'Center']) / len(df)\n",
    "    indep = len(df[df['pol_spec_user'] == 'Independent']) / len(df)\n",
    "    lefts.append(left)\n",
    "    rights.append(right)\n",
    "    cents.append(center)\n",
    "    inds.append(indep)\n",
    "\n",
    "# combining into a dataframe for display \n",
    "rt_df = pd.DataFrame({'screen_name': users, \n",
    "                      'total_retweets': totals,\n",
    "                      'prop_male': males, \n",
    "                      'prop_female': females, \n",
    "                      'prop_left': lefts, \n",
    "                      'prop_right': rights, \n",
    "                      'prop_cent': cents, \n",
    "                      'prop_ind': inds})\n",
    "rt_df  "
   ]
  },
  {
   "cell_type": "code",
   "execution_count": 29,
   "id": "c0e7a68f",
   "metadata": {},
   "outputs": [
    {
     "name": "stdout",
     "output_type": "stream",
     "text": [
      "Total retweets: 161277\n",
      "Proportion retweets: 0.39604098982621316\n",
      "Total reply-tweets: 76747\n",
      "Proportion reply-tweets: 0.18846430579805168\n",
      "\n",
      "RT and reply (shouldn't be possible): 17\n",
      "\n",
      "New counts\n",
      "Total retweets: 161277\n",
      "Proportion retweets: 0.39604098982621316\n",
      "Total reply-tweets: 76730\n",
      "Proportion reply-tweets: 0.18842255962949048\n"
     ]
    }
   ],
   "source": [
    "### number of tweets that are RTs or replies \n",
    "\n",
    "print('Total retweets:', sum(training.retweet == 1))\n",
    "print('Proportion retweets:',sum(training.retweet == 1)/len(training.retweet))\n",
    "print('Total reply-tweets:', sum(training.in_reply_to_screen_name.notnull()))\n",
    "print('Proportion reply-tweets:', sum(training.in_reply_to_screen_name.notnull())\n",
    "      /len(training.hashtags))\n",
    "\n",
    "# FIX THE BELOW- classify them as just retweets, not in_reply_to's \n",
    "print()\n",
    "print(\"RT and reply (shouldn't be possible):\", \n",
    "      len(training.loc[(training['in_reply_to_screen_name'].notnull()) & \n",
    "                       (training['retweet'] == 1)])) \n",
    "\n",
    "# removing the in-reply-to-names for the 17 that are actually RTs. \n",
    "training.loc[(training['in_reply_to_screen_name'].notnull()) & \n",
    "             (training['retweet'] == 1), \n",
    "            'in_reply_to_screen_name'] = np.nan\n",
    "print()\n",
    "print('New counts')\n",
    "print('Total retweets:', sum(training.retweet == 1))\n",
    "print('Proportion retweets:',sum(training.retweet == 1)/len(training.retweet))\n",
    "print('Total reply-tweets:', sum(training.in_reply_to_screen_name.notnull()))\n",
    "print('Proportion reply-tweets:', sum(training.in_reply_to_screen_name.notnull())\n",
    "      /len(training.hashtags))"
   ]
  },
  {
   "cell_type": "markdown",
   "id": "7172e6d1",
   "metadata": {},
   "source": [
    "## Pre-processing"
   ]
  },
  {
   "cell_type": "markdown",
   "id": "18e42e67",
   "metadata": {},
   "source": [
    "### Prepping the testing dataset"
   ]
  },
  {
   "cell_type": "code",
   "execution_count": 30,
   "id": "50a4ca65",
   "metadata": {},
   "outputs": [
    {
     "data": {
      "text/html": [
       "<div>\n",
       "<style scoped>\n",
       "    .dataframe tbody tr th:only-of-type {\n",
       "        vertical-align: middle;\n",
       "    }\n",
       "\n",
       "    .dataframe tbody tr th {\n",
       "        vertical-align: top;\n",
       "    }\n",
       "\n",
       "    .dataframe thead th {\n",
       "        text-align: right;\n",
       "    }\n",
       "</style>\n",
       "<table border=\"1\" class=\"dataframe\">\n",
       "  <thead>\n",
       "    <tr style=\"text-align: right;\">\n",
       "      <th></th>\n",
       "      <th>Id</th>\n",
       "      <th>hashtags</th>\n",
       "      <th>full_text</th>\n",
       "      <th>in_reply_to_screen_name</th>\n",
       "      <th>country_user</th>\n",
       "      <th>gender_user</th>\n",
       "      <th>pol_spec_user</th>\n",
       "    </tr>\n",
       "  </thead>\n",
       "  <tbody>\n",
       "    <tr>\n",
       "      <th>0</th>\n",
       "      <td>0</td>\n",
       "      <td>EUAfrica</td>\n",
       "      <td>b'RT @eu_eeas: \"Let me tell you that a big par...</td>\n",
       "      <td>NaN</td>\n",
       "      <td>belgium</td>\n",
       "      <td>Male</td>\n",
       "      <td>NaN</td>\n",
       "    </tr>\n",
       "    <tr>\n",
       "      <th>1</th>\n",
       "      <td>1</td>\n",
       "      <td>COVID19</td>\n",
       "      <td>b'RT @stateofgreendk: \"Although the #COVID19 p...</td>\n",
       "      <td>NaN</td>\n",
       "      <td>denmark</td>\n",
       "      <td>Male</td>\n",
       "      <td>NaN</td>\n",
       "    </tr>\n",
       "    <tr>\n",
       "      <th>2</th>\n",
       "      <td>2</td>\n",
       "      <td>NaN</td>\n",
       "      <td>b'@hjorvarhaflida // jebb - i\\xc3\\xb0a\\xc3\\xb0...</td>\n",
       "      <td>hjorvarhaflida</td>\n",
       "      <td>iceland</td>\n",
       "      <td>Female</td>\n",
       "      <td>NaN</td>\n",
       "    </tr>\n",
       "    <tr>\n",
       "      <th>3</th>\n",
       "      <td>3</td>\n",
       "      <td>NaN</td>\n",
       "      <td>b'I ett l\\xc3\\xa4ge med pandemi, klimat, trans...</td>\n",
       "      <td>NaN</td>\n",
       "      <td>sweden</td>\n",
       "      <td>Female</td>\n",
       "      <td>NaN</td>\n",
       "    </tr>\n",
       "    <tr>\n",
       "      <th>4</th>\n",
       "      <td>4</td>\n",
       "      <td>UNGA ChildrenNotSoldiers</td>\n",
       "      <td>b'RT @BelgiumMFA: \\xf0\\x9f\\x93\\x8d #UNGA\\n\\n\\x...</td>\n",
       "      <td>NaN</td>\n",
       "      <td>belgium</td>\n",
       "      <td>Male</td>\n",
       "      <td>NaN</td>\n",
       "    </tr>\n",
       "  </tbody>\n",
       "</table>\n",
       "</div>"
      ],
      "text/plain": [
       "   Id                  hashtags  \\\n",
       "0   0                  EUAfrica   \n",
       "1   1                   COVID19   \n",
       "2   2                       NaN   \n",
       "3   3                       NaN   \n",
       "4   4  UNGA ChildrenNotSoldiers   \n",
       "\n",
       "                                           full_text in_reply_to_screen_name  \\\n",
       "0  b'RT @eu_eeas: \"Let me tell you that a big par...                     NaN   \n",
       "1  b'RT @stateofgreendk: \"Although the #COVID19 p...                     NaN   \n",
       "2  b'@hjorvarhaflida // jebb - i\\xc3\\xb0a\\xc3\\xb0...          hjorvarhaflida   \n",
       "3  b'I ett l\\xc3\\xa4ge med pandemi, klimat, trans...                     NaN   \n",
       "4  b'RT @BelgiumMFA: \\xf0\\x9f\\x93\\x8d #UNGA\\n\\n\\x...                     NaN   \n",
       "\n",
       "  country_user gender_user  pol_spec_user  \n",
       "0      belgium        Male            NaN  \n",
       "1      denmark        Male            NaN  \n",
       "2      iceland      Female            NaN  \n",
       "3       sweden      Female            NaN  \n",
       "4      belgium        Male            NaN  "
      ]
     },
     "execution_count": 30,
     "metadata": {},
     "output_type": "execute_result"
    }
   ],
   "source": [
    "# loading in testing dataset to conduct the same procesing/feature encoding steps. \n",
    "testing = pd.read_excel('test_data.xlsx')\n",
    "testing.head()"
   ]
  },
  {
   "cell_type": "code",
   "execution_count": 31,
   "id": "4fbc04df",
   "metadata": {},
   "outputs": [],
   "source": [
    "# stripping full text of unicode erros\n",
    "testing['full_text_strip'] = testing['full_text'].apply(lambda x: x[2:-1].encode('utf-8').decode('unicode_escape'))\n",
    "\n",
    "# removing mentions \n",
    "# determine if tweet contains user mentions\n",
    "testing['has_user_mentions'] = testing['full_text_strip'].apply(lambda x: determine_user_mentions(x))\n",
    "# extract user mentions from tweet to a list\n",
    "testing['user_mentions'] = testing['full_text_strip'].apply(lambda x: extract_user_mentions(x))\n",
    "# remove user mentions from tweet\n",
    "testing['full_text_rm'] = testing['full_text_strip'].apply(lambda x: remove_user_mentions(x))"
   ]
  },
  {
   "cell_type": "code",
   "execution_count": 32,
   "id": "38d4a092",
   "metadata": {},
   "outputs": [],
   "source": [
    "# lemmatization -- lemmatizing text both with the mentions and without the mentions\n",
    "\n",
    "cleaned = [lemmatize_tweet(testing.full_text_rm[i]) for i \n",
    "       in range(0, len(testing.full_text))]\n",
    "testing['text_clean_rm'] = cleaned\n",
    "\n",
    "cleaned = [lemmatize_tweet(testing.full_text_strip[i]) for i \n",
    "       in range(0, len(testing.full_text))] \n",
    "testing['text_clean'] = cleaned\n"
   ]
  },
  {
   "cell_type": "code",
   "execution_count": 33,
   "id": "67fd1575",
   "metadata": {},
   "outputs": [],
   "source": [
    "# adding in the two new retweet features made above for the training set \n",
    "retweet = []\n",
    "retweet_user = []\n",
    "for tweet in testing.full_text_strip:\n",
    "    # determine if it's a retweet or not \n",
    "    if tweet.startswith('RT'):\n",
    "        retweet.append(1)\n",
    "        # get the user screenname from the list \n",
    "        user = tweet.split()[1]\n",
    "        retweet_user.append(user[1:len(user)-1])\n",
    "\n",
    "    else:\n",
    "        retweet.append(0)\n",
    "        retweet_user.append(None)\n",
    "\n",
    "testing['retweet'] = retweet\n",
    "testing['retweet_user'] = retweet_user\n",
    "testing['retweet_user'].replace([''], np.nan, inplace=True)"
   ]
  },
  {
   "cell_type": "code",
   "execution_count": 34,
   "id": "e28324da",
   "metadata": {},
   "outputs": [],
   "source": [
    "# per the above, checking that if there are any cases where it is a RT and a reply, that it is \n",
    "# now only classified as a RT \n",
    "testing.loc[(testing['in_reply_to_screen_name'].notnull()) & \n",
    "             (testing['retweet'] == 1), \n",
    "            'in_reply_to_screen_name'] = np.nan"
   ]
  },
  {
   "cell_type": "code",
   "execution_count": 35,
   "id": "c64b99c1",
   "metadata": {},
   "outputs": [
    {
     "name": "stdout",
     "output_type": "stream",
     "text": [
      "TESTING DATA RT/REPLIES\n",
      "Total retweets: 40485\n",
      "Proportion retweets: 0.39766030174446015\n",
      "Total reply-tweets: 18950\n",
      "Proportion reply-tweets: 0.18613468489706114\n"
     ]
    }
   ],
   "source": [
    "print(\"TESTING DATA RT/REPLIES\")\n",
    "print('Total retweets:', sum(testing.retweet == 1))\n",
    "print('Proportion retweets:',sum(testing.retweet == 1)/len(testing.text_clean))\n",
    "print('Total reply-tweets:', sum(testing.in_reply_to_screen_name.notnull()))\n",
    "print('Proportion reply-tweets:', sum(testing.in_reply_to_screen_name.notnull())\n",
    "      /len(testing.hashtags))"
   ]
  },
  {
   "cell_type": "markdown",
   "id": "c3ccb54f",
   "metadata": {},
   "source": [
    "### Filling null values"
   ]
  },
  {
   "cell_type": "code",
   "execution_count": 36,
   "id": "f84e93fb",
   "metadata": {},
   "outputs": [],
   "source": [
    "#drop uncessary columns\n",
    "def drop_cols(df, cols_to_drop):\n",
    "    df1 = df.drop(cols_to_drop, axis=1)\n",
    "    return df1\n",
    "\n",
    "#fill null values\n",
    "def fill_null(df, col_to_fill):\n",
    "    df['col_to_fill'] = df[col_to_fill].fillna(\"\")\n",
    "    return df['col_to_fill']\n",
    "\n",
    "#remove numbers from tweets\n",
    "def remove_num(tweet):\n",
    "    cleaned_list = [x for x in tweet if not x.isdigit()]\n",
    "    return cleaned_list"
   ]
  },
  {
   "cell_type": "code",
   "execution_count": 83,
   "id": "c3def3cb",
   "metadata": {},
   "outputs": [],
   "source": [
    "# fill null values - training set \n",
    "training['hashtags'] = fill_null(training, 'hashtags')\n",
    "training['in_reply_to_screen_name'] = fill_null(training, 'in_reply_to_screen_name')\n",
    "training['text_clean_rm'] = fill_null(training, 'text_clean_rm')"
   ]
  },
  {
   "cell_type": "code",
   "execution_count": 84,
   "id": "51fc7aa0",
   "metadata": {},
   "outputs": [],
   "source": [
    "#fill null values - testing set\n",
    "testing['hashtags'] = fill_null(testing, 'hashtags')\n",
    "testing['in_reply_to_screen_name'] = fill_null(testing, 'in_reply_to_screen_name')\n",
    "testing['text_clean_rm'] = fill_null(testing, 'text_clean_rm')"
   ]
  },
  {
   "cell_type": "markdown",
   "id": "6d6c964f",
   "metadata": {},
   "source": [
    "### Adding reply-to binary feature"
   ]
  },
  {
   "cell_type": "code",
   "execution_count": 39,
   "id": "e0cbc2a2",
   "metadata": {},
   "outputs": [],
   "source": [
    "training['in_reply_or_not'] = training['in_reply_to_screen_name'].apply(lambda x: 1 if x != \"\" else 0)\n",
    "testing['in_reply_or_not'] = testing['in_reply_to_screen_name'].apply(lambda x: 1 if x != \"\" else 0)"
   ]
  },
  {
   "cell_type": "markdown",
   "id": "2c934421",
   "metadata": {},
   "source": [
    "### Splitting tweets into lists + removing numbers "
   ]
  },
  {
   "cell_type": "code",
   "execution_count": 40,
   "id": "002fc70c",
   "metadata": {},
   "outputs": [],
   "source": [
    "#Split tweets into lists \n",
    "training['text_clean_split'] = training['text_clean_rm'].apply(lambda x: x.split())\n",
    "testing['text_clean_split'] = testing['text_clean_rm'].apply(lambda x: x.split())\n",
    "\n",
    "# Remove numbers from the tweets\n",
    "training['text_clean_split'] = training['text_clean_split'].apply(lambda x: remove_num(x))\n",
    "testing['text_clean_split'] = testing['text_clean_split'].apply(lambda x: remove_num(x))\n"
   ]
  },
  {
   "cell_type": "code",
   "execution_count": null,
   "id": "51d5e9e7",
   "metadata": {},
   "outputs": [],
   "source": [
    "# saving up to this point so that it can be re-loaded in: \n",
    "training.to_excel('training_processed.xlsx', index=False)\n",
    "testing.to_excel('testing_processed.xlsx', index=False)"
   ]
  },
  {
   "cell_type": "markdown",
   "id": "3583b06d",
   "metadata": {},
   "source": [
    "## Modelling with TF-IDF text vectorization"
   ]
  },
  {
   "cell_type": "code",
   "execution_count": null,
   "id": "1a5a95e6",
   "metadata": {},
   "outputs": [],
   "source": [
    "from sklearn.feature_extraction.text import TfidfVectorizer\n",
    "import numpy as np \n",
    "\n",
    "# using 1000 words at first -- might change to add more/less later? \n",
    "# experiment with min_df\n",
    "\n",
    "feature_num = 1500 \n",
    "\n",
    "tfidf_vectorizer = TfidfVectorizer(\n",
    "    max_df=0.90, min_df=100, max_features=feature_num, stop_words=\"english\")\n",
    "\n",
    "vectors_training = tfidf_vectorizer.fit_transform(training['text_clean'])\n",
    "vectors_testing = tfidf_vectorizer.transform(testing['text_clean'])\n",
    "\n",
    "training_tweets = vectors_training.toarray()\n",
    "testing_tweets = vectors_testing.toarray()"
   ]
  },
  {
   "cell_type": "code",
   "execution_count": null,
   "id": "27562eee",
   "metadata": {},
   "outputs": [],
   "source": [
    "'''\n",
    "Looking to see what words from tf-idf vectorization are most 'important' by each political \n",
    "spectrum category. \n",
    "'''\n",
    "spec_terms = {} \n",
    "\n",
    "for spec in ['Left', 'Right', 'Center', 'Independent']: \n",
    "    indices = training.loc[training['pol_spec_user'] == spec].index\n",
    "    features = training_tweets[indices]\n",
    "    feature_sums = np.sum(features, axis=0)\n",
    "    combined = np.concatenate((feature_sums, tfidf_vectorizer.get_feature_names_out()))\n",
    "    combined = combined.reshape(2, feature_num).T\n",
    "    sorted_totals = combined[combined[:, 0].argsort()][::-1]\n",
    "    top_100_words = sorted_totals[:100][:,1].tolist()\n",
    "    \n",
    "    spec_terms[spec] = top_100_words\n",
    "\n",
    "\n",
    "top_terms = pd.DataFrame(spec_terms) \n",
    "top_terms.head(10) "
   ]
  },
  {
   "cell_type": "code",
   "execution_count": null,
   "id": "306d63e7",
   "metadata": {},
   "outputs": [],
   "source": [
    "# vecotrizing hashtags too. going to use a count vectorizer for this. \n",
    "from sklearn.feature_extraction.text import CountVectorizer\n",
    "\n",
    "ht_feature_num = 200 \n",
    "\n",
    "# making hashtag column lower case\n",
    "training['hashtags'] = training['hashtags'].str.lower()\n",
    "testing['hashtags'] = testing['hashtags'].str.lower()\n",
    "\n",
    "# count vectorizing - using 'none' as the stopword so it will be pulled out! \n",
    "ht_vectorizer = CountVectorizer(stop_words = ['none'], max_features=ht_feature_num, \n",
    "                               max_df = 0.8)\n",
    "\n",
    "ht_vectorizer.fit(training['hashtags'])\n",
    "\n",
    "train_ht_vectors = ht_vectorizer.fit_transform(training['hashtags'])\n",
    "test_ht_vectors = ht_vectorizer.fit_transform(testing['hashtags'])\n",
    "\n",
    "training_hts = train_ht_vectors.toarray()\n",
    "testing_hts = test_ht_vectors.toarray()"
   ]
  },
  {
   "cell_type": "code",
   "execution_count": null,
   "id": "1a0686a6",
   "metadata": {},
   "outputs": [],
   "source": [
    "spec_terms = {} \n",
    "\n",
    "for spec in ['Left', 'Right', 'Center', 'Independent']: \n",
    "    indices = training.loc[training['pol_spec_user'] == spec].index\n",
    "    features = training_hts[indices]\n",
    "    feature_sums = np.sum(features, axis=0)\n",
    "    combined = np.concatenate((feature_sums, ht_vectorizer.get_feature_names_out()))\n",
    "    combined = combined.reshape(2, ht_feature_num).T\n",
    "    sorted_totals = combined[combined[:, 0].argsort()][::-1]\n",
    "    top_100_words = sorted_totals[:100][:,1].tolist()\n",
    "    \n",
    "    spec_terms[spec] = top_100_words\n",
    "\n",
    "\n",
    "top_hts = pd.DataFrame(spec_terms) \n",
    "top_hts.head(10) "
   ]
  },
  {
   "cell_type": "markdown",
   "id": "01117cd8",
   "metadata": {},
   "source": [
    "### One-hot-encoding country and gender"
   ]
  },
  {
   "cell_type": "code",
   "execution_count": null,
   "id": "4c5cfcc3",
   "metadata": {},
   "outputs": [],
   "source": [
    "# OHE gender \n",
    "training = pd.get_dummies(training, columns = ['gender_user'])\n",
    "testing = pd.get_dummies(testing, columns = ['gender_user'])"
   ]
  },
  {
   "cell_type": "code",
   "execution_count": null,
   "id": "217c8f0d",
   "metadata": {},
   "outputs": [],
   "source": [
    "# OHE country \n",
    "training = pd.get_dummies(training, columns = ['country_user'])\n",
    "testing = pd.get_dummies(testing, columns = ['country_user'])"
   ]
  },
  {
   "cell_type": "markdown",
   "id": "f8d015ba",
   "metadata": {},
   "source": [
    "### Feature selection"
   ]
  },
  {
   "cell_type": "code",
   "execution_count": null,
   "id": "fb2bb50e",
   "metadata": {},
   "outputs": [],
   "source": [
    "# currently only use OHE gender, country, and tfidf vectorized tweets. \n",
    "# later will want to explore about using retweet/reply information as an another feature. \n",
    "# ohe_columns = [c for c in training.columns][15:] <<-- just bc of lang features \n",
    "ohe_columns = [c for c in training.columns][23:] + ['retweet', 'in_reply_or_not']\n",
    "training_features = training[ohe_columns].to_numpy()\n",
    "training_np = np.append(training_features, training_tweets, axis=1)\n",
    "training_np = np.append(training_np, training_hts, axis=1) # adding HTs in \n",
    "\n",
    "testing_features = testing[ohe_columns].to_numpy()\n",
    "testing_np = np.append(testing_features, testing_tweets, axis=1)\n",
    "testing_np = np.append(testing_np, testing_hts, axis=1) # adding HTs in \n"
   ]
  },
  {
   "cell_type": "code",
   "execution_count": null,
   "id": "1661fae7",
   "metadata": {},
   "outputs": [],
   "source": [
    "ohe_columns"
   ]
  },
  {
   "cell_type": "code",
   "execution_count": null,
   "id": "6d377eaa",
   "metadata": {},
   "outputs": [],
   "source": [
    "training_np.shape, testing_np.shape"
   ]
  },
  {
   "cell_type": "markdown",
   "id": "986e25d2",
   "metadata": {},
   "source": [
    "### Train-test splitting"
   ]
  },
  {
   "cell_type": "code",
   "execution_count": null,
   "id": "434c5007",
   "metadata": {},
   "outputs": [],
   "source": [
    "from sklearn.model_selection import train_test_split\n",
    "\n",
    "X = training_np \n",
    "y = training['pol_spec_user']\n",
    "\n",
    "x_train, x_test, y_train, y_test = train_test_split(X, y, \n",
    "                                                    stratify = y,test_size=0.25)"
   ]
  },
  {
   "cell_type": "markdown",
   "id": "f4525206",
   "metadata": {},
   "source": [
    "### Initial model evaluation"
   ]
  },
  {
   "cell_type": "code",
   "execution_count": null,
   "id": "eda5f481",
   "metadata": {},
   "outputs": [],
   "source": [
    "from sklearn.naive_bayes import MultinomialNB\n",
    "from sklearn.metrics import accuracy_score\n",
    "from sklearn.neighbors import KNeighborsClassifier\n",
    "from sklearn.model_selection import cross_val_score\n",
    "from sklearn.tree import DecisionTreeClassifier\n",
    "from sklearn.ensemble import RandomForestClassifier\n",
    "from sklearn.metrics import confusion_matrix"
   ]
  },
  {
   "cell_type": "code",
   "execution_count": null,
   "id": "b60dfad3",
   "metadata": {},
   "outputs": [],
   "source": [
    "# trying some simpler models first as benchmarks ... \n",
    "\n",
    "print('MULTINOMIAL NAIVE BAYES')\n",
    "\n",
    "clf = MultinomialNB()\n",
    "clf.fit(x_train, y_train)\n",
    "y_pred = clf.predict(x_test)\n",
    "print('   accuracy: ', accuracy_score(y_test, y_pred))\n",
    "\n",
    "cm = confusion_matrix(y_true, y_pred)\n",
    "print(cm)\n",
    "\n",
    "# scores = cross_val_score(clf, X, y, cv=5, stratify=y)\n",
    "# print('   5-fold CV scores:', scores)"
   ]
  },
  {
   "cell_type": "code",
   "execution_count": null,
   "id": "9f33308e",
   "metadata": {},
   "outputs": [],
   "source": [
    "print('RANDOM FOREST, depth = 5')\n",
    "clf = RandomForestClassifier(max_depth=5)\n",
    "clf.fit(x_train, y_train)\n",
    "y_pred = clf.predict(x_test)\n",
    "print('   accuracy: ', accuracy_score(y_test, y_pred))\n",
    "cm = confusion_matrix(y_true, y_pred)\n",
    "print(cm)\n"
   ]
  },
  {
   "cell_type": "code",
   "execution_count": null,
   "id": "772323db",
   "metadata": {},
   "outputs": [],
   "source": [
    "print('DECISION TREE, depth = 10')\n",
    "clf = DecisionTreeClassifier(max_depth=10)\n",
    "clf.fit(x_train, y_train)\n",
    "y_pred = clf.predict(x_test)\n",
    "print('   accuracy: ', accuracy_score(y_test, y_pred))"
   ]
  },
  {
   "cell_type": "code",
   "execution_count": null,
   "id": "a23f9a7c",
   "metadata": {},
   "outputs": [],
   "source": [
    "print('DECISION TREE, depth = 40')\n",
    "clf = DecisionTreeClassifier(criterion = 'gini', max_depth=40)\n",
    "clf.fit(x_train, y_train)\n",
    "y_pred = clf.predict(x_test)\n",
    "print('   accuracy: ', accuracy_score(y_test, y_pred))\n",
    "# scores = cross_val_score(clf, X, y, cv=5)\n",
    "# print('   5-fold CV scores:', scores)"
   ]
  },
  {
   "cell_type": "code",
   "execution_count": null,
   "id": "70709f5d",
   "metadata": {},
   "outputs": [],
   "source": [
    "print('DECISION TREE, depth = 60')\n",
    "clf = DecisionTreeClassifier(criterion = 'gini', max_depth=60)\n",
    "clf.fit(x_train, y_train)\n",
    "y_pred = clf.predict(x_test)\n",
    "print('   accuracy: ', accuracy_score(y_test, y_pred))\n",
    "cm = confusion_matrix(y_true, y_pred)\n",
    "print(cm)\n",
    "\n",
    "# scores = cross_val_score(clf, X, y, cv=5)\n",
    "# print('   5-fold CV scores:', scores)"
   ]
  },
  {
   "cell_type": "code",
   "execution_count": null,
   "id": "ae8178e7",
   "metadata": {},
   "outputs": [],
   "source": [
    "# # fitting MNB model now to whole dataset and generating test set predictions. \n",
    "\n",
    "# clf = MultinomialNB()\n",
    "# clf.fit(X, y)\n",
    "# y_pred = clf.predict(testing_np)\n",
    "\n",
    "# inds = [i for i in range(len(y_pred))]\n",
    "# sub_1_mnb = pd.DataFrame(data={'id': inds, \n",
    "#                            'pol_spec_user': y_pred})\n",
    "# sub_1_mnb.to_csv(\"kaggle_submissions/sub_1_mnb.csv\", index=False) # accuracy = 0.55"
   ]
  },
  {
   "cell_type": "code",
   "execution_count": null,
   "id": "38944fd4",
   "metadata": {},
   "outputs": [],
   "source": [
    "# # fitting DT depth=20 model now to whole dataset and generating test set predictions. \n",
    "# clf = DecisionTreeClassifier(criterion = 'gini', max_depth=20)\n",
    "# clf.fit(X, y)\n",
    "# y_pred = clf.predict(testing_np)\n",
    "\n",
    "# inds = [i for i in range(len(y_pred))]\n",
    "# sub_3_dt = pd.DataFrame(data={'id': inds, \n",
    "#                            'pol_spec_user': y_pred})\n",
    "# sub_3_dt.to_csv(\"kaggle_submissions/sub_3_dt.csv\", index=False) # accuracy = 0.55"
   ]
  },
  {
   "cell_type": "code",
   "execution_count": null,
   "id": "77ff6167",
   "metadata": {},
   "outputs": [],
   "source": [
    "# # fitting DT depth=60 model now to whole dataset and generating test set predictions. \n",
    "# clf = DecisionTreeClassifier(criterion = 'gini', max_depth=60)\n",
    "# clf.fit(X, y)\n",
    "# y_pred = clf.predict(testing_np)\n",
    "\n",
    "# inds = [i for i in range(len(y_pred))]\n",
    "# sub_4_dt = pd.DataFrame(data={'id': inds, \n",
    "#                            'pol_spec_user': y_pred})\n",
    "# sub_4_dt.to_csv(\"kaggle_submissions/sub_4_dt.csv\", index=False) # accuracy = 0.56"
   ]
  },
  {
   "cell_type": "code",
   "execution_count": null,
   "id": "5b0d695e",
   "metadata": {},
   "outputs": [],
   "source": [
    "# # fitting DT depth=60 model now to whole dataset and generating test set predictions. \n",
    "# clf = DecisionTreeClassifier(criterion = 'gini', max_depth=60)\n",
    "# clf.fit(X, y)\n",
    "# y_pred = clf.predict(testing_np)\n",
    "\n",
    "# inds = [i for i in range(len(y_pred))]\n",
    "# sub_10_dt = pd.DataFrame(data={'id': inds, \n",
    "#                            'pol_spec_user': y_pred})\n",
    "# sub_10_dt.to_csv(\"kaggle_submissions/sub_10_dt.csv\", index=False) # accuracy = 0.56"
   ]
  },
  {
   "cell_type": "markdown",
   "id": "698bae6a",
   "metadata": {},
   "source": [
    "### Relabeling predictions based on RT or reply user name"
   ]
  },
  {
   "cell_type": "code",
   "execution_count": 41,
   "id": "4781c92b",
   "metadata": {},
   "outputs": [],
   "source": [
    "'''\n",
    "Making a dictionary to lookup the RT and reply screennames, and the most associated political spectrum from\n",
    "the training set. \n",
    "    -keys: screenname \n",
    "    -values: a list of 4 values in which these values represent each index: \n",
    "        1. Proportion of instances assocaited with 'Left'\n",
    "        2. Proportion of instances associated with 'Center'\n",
    "        3. Proportion of instances associated with 'Right'\n",
    "        4. Proportion of instances associated with 'Independent'\n",
    "\n",
    "The helper function, `get_proportion_list` will generate a list of these above values. It takes the following \n",
    "parameters: \n",
    "    -screen_name: a string, the screen name to generate the list of proportions for \n",
    "    -rt: boolean value, TRUE if the screen_name corresponds to a retweet \n",
    "    -reply: boolean value, TRUE if the screen_name corresponds to a reply tweet \n",
    "    -df: defaulted to \"training\", the name of the dataframe containing the training data\n",
    "'''\n",
    "\n",
    "def get_proportion_list(screen_name, rt=False, reply=False, df=training): \n",
    "    if rt: \n",
    "        col = 'retweet_user'\n",
    "    elif reply: \n",
    "        col = 'in_reply_to_screen_name'\n",
    "    \n",
    "    filtered = df[df[col] == screen_name]\n",
    "    \n",
    "    count = len(filtered)\n",
    "    left_prop = len(filtered[filtered['pol_spec_user'] == 'Left']) / count \n",
    "    center_prop = len(filtered[filtered['pol_spec_user'] == 'Center']) / count \n",
    "    right_prop = len(filtered[filtered['pol_spec_user'] == 'Right']) / count \n",
    "    ind_prop = len(filtered[filtered['pol_spec_user'] == 'Independent']) / count \n",
    "\n",
    "    return [left_prop, center_prop, right_prop, ind_prop] \n",
    "\n",
    "\n",
    "reply_names = [i for i in training.loc[training['in_reply_to_screen_name'].notnull()].in_reply_to_screen_name.unique()]\n",
    "rt_names = [i for i in training.loc[training['retweet_user'].notnull()].retweet_user.unique()]\n",
    "\n",
    "reply_dic = {}\n",
    "rt_dic = {}\n",
    "\n",
    "for name in reply_names: \n",
    "    reply_dic[name] = get_proportion_list(name, reply=True)\n",
    "\n",
    "for name in rt_names: \n",
    "    rt_dic[name] = get_proportion_list(name, rt=True)\n"
   ]
  },
  {
   "cell_type": "code",
   "execution_count": 42,
   "id": "30ee0372",
   "metadata": {},
   "outputs": [],
   "source": [
    "'''\n",
    "The below two functions will return a political spectrum label based on a retweet or reply screenname. \n",
    "\n",
    "`predict_from_name` takes two parametes as an input: \n",
    "    - the screenname (string)\n",
    "    - the dictionary to lookup values from: either the reply dictionary, or retweet dictionary. \n",
    "The function will return the political spectrum label ('Left', 'Center', 'Right', 'Independent')\n",
    "\n",
    "\n",
    "`relabel_predictions` will take an entire set of predictions from a model, and will return a set of \n",
    "predictions after relabeling the retweet or reply rows. The function will first determine the indicies \n",
    "of rows corersponding to retweets or replies. Then each row is passed through, and if it is a reply or \n",
    "retweet row a new label will be generated from `predict_from_name`. The function will return a new array \n",
    "of predictions. There are several parameters: \n",
    "    - predictions: an array of model predictions of political spectrum \n",
    "    - df: pandas dataframe with default as 'testing'. From this dataframe retweet and reply rows will be \n",
    "    identified. \n",
    "    - replies: dictionary used to look up reply screen name values \n",
    "    - retweets: dictionary used to look RT screen name values. \n",
    "'''\n",
    "\n",
    "def predict_from_name(name, dic): \n",
    "    code_dic = {0: 'Left', 1:'Center', 2:'Right', 3:'Independent'}\n",
    "    ind = dic[name].index(max(dic[name]))\n",
    "    return code_dic[ind]\n",
    "\n",
    "def relabel_predictions(predictions, df = testing, replies = reply_dic, \n",
    "                       retweets = rt_dic): \n",
    "    \n",
    "    # getting indicies of retweets + replies\n",
    "    rt_ids = df.loc[(df['retweet_user'].notnull()) & (df['retweet_user'] != '')].Id\n",
    "    rep_ids = df.loc[(df['in_reply_to_screen_name'].notnull()) & (df['in_reply_to_screen_name'] != '')].Id\n",
    "    \n",
    "    labels = [] \n",
    "    \n",
    "    for i in df.Id: \n",
    "        # if the row is a RT, then find correct label from retweet dic\n",
    "        if i in rt_ids: \n",
    "            rt_name = df.retweet_user[i]\n",
    "            if rt_name in retweets: \n",
    "                new_pred = predict_from_name(rt_name, retweets)\n",
    "\n",
    "        # if row is a reply, then find correct label from reply dic\n",
    "        elif i in rep_ids: \n",
    "            rep_name = df.in_reply_to_screen_name[i]\n",
    "            if rep_name in replies: \n",
    "                new_pred = predict_from_name(rep_name, replies)    \n",
    "        \n",
    "        # if not a RT or reply, just keep the same prediction\n",
    "        else: \n",
    "            new_pred = predictions[i]\n",
    "        \n",
    "        if not new_pred: \n",
    "            print(i)\n",
    "    \n",
    "        labels.append(new_pred)\n",
    "    \n",
    "    return labels"
   ]
  },
  {
   "cell_type": "code",
   "execution_count": null,
   "id": "4fcd59ac",
   "metadata": {},
   "outputs": [],
   "source": [
    "# let's take my most successful model, and then re-classify any RT and reply values based on the above. \n",
    "# fitting DT depth=60 model now to whole dataset and generating test set predictions. \n",
    "\n",
    "clf = DecisionTreeClassifier(criterion = 'gini', max_depth=60)\n",
    "clf.fit(X, y)\n",
    "y_pred = clf.predict(testing_np)\n",
    "\n",
    "inds = [i for i in range(len(y_pred))]\n",
    "sub_5_dt_rt = pd.DataFrame(data={'id': inds, \n",
    "                           'pol_spec_user': y_pred})\n",
    "\n",
    "new_labels = relabel_predictions(sub_5_dt_rt.pol_spec_user)\n",
    "sub_5_dt_rt['pol_spec_user'] = new_labels\n",
    "sub_5_dt_rt.to_csv(\"kaggle_submissions/sub_5_dt_rt.csv\", index=False) # accuracy = 0.67"
   ]
  },
  {
   "cell_type": "code",
   "execution_count": null,
   "id": "d7babf27",
   "metadata": {},
   "outputs": [],
   "source": [
    "# re-labelling decision tree \n",
    "inds = [i for i in range(len(y_pred))]\n",
    "sub_10_dt = pd.DataFrame(data={'id': inds, \n",
    "                           'pol_spec_user': y_pred})\n",
    "sub_10_dt.to_csv(\"kaggle_submissions/sub_10_dt.csv\", index=False) # accuracy = 0.56\n",
    "\n",
    "new_predictions = relabel_predictions(sub_10_dt.pol_spec_user)\n",
    "sub_10_dt['pol_spec_user'] = new_predictions\n",
    "sub_10_dt.to_csv(\"kaggle_submissions/sub_10_dt.csv\", index=False) # accuracy = 0.62"
   ]
  },
  {
   "cell_type": "code",
   "execution_count": null,
   "id": "87e4c3b7",
   "metadata": {},
   "outputs": [],
   "source": [
    "## Taking Ha's predictions from kaggle and re-classifying \n",
    "ha = pd.read_csv('cb_submission.csv')\n",
    "sub_6_ha_rt = pd.DataFrame(data={'id': inds, \n",
    "                           'pol_spec_user': ha.pol_spec_user})\n",
    "\n",
    "new_predictions = relabel_predictions(ha.pol_spec_user)\n",
    "sub_6_ha_rt['pol_spec_user'] = new_predictions\n",
    "sub_6_ha_rt.to_csv(\"kaggle_submissions/sub_6_ha_rt.csv\", index=False) # accuracy = 0.71"
   ]
  },
  {
   "cell_type": "code",
   "execution_count": null,
   "id": "0b7d79b9",
   "metadata": {},
   "outputs": [],
   "source": [
    "ha = pd.read_csv('cb_submission_639.csv')\n",
    "sub_11_ha_cb = pd.DataFrame(data={'id': inds, \n",
    "                           'pol_spec_user': ha.pol_spec_user})\n",
    "\n",
    "new_predictions = relabel_predictions(ha.pol_spec_user)\n",
    "sub_11_ha_cb['pol_spec_user'] = new_predictions\n",
    "sub_11_ha_cb.to_csv(\"kaggle_submissions/sub_11_ha_cb.csv\", index=False) # accuracy = .66"
   ]
  },
  {
   "cell_type": "code",
   "execution_count": null,
   "id": "997acc0c",
   "metadata": {},
   "outputs": [],
   "source": [
    "ha = pd.read_csv('rd_submission.csv')\n",
    "sub_12_ha_rd = pd.DataFrame(data={'id': inds, \n",
    "                           'pol_spec_user': ha.pol_spec_user})\n",
    "\n",
    "new_predictions = relabel_predictions(ha.pol_spec_user)\n",
    "sub_12_ha_rd['pol_spec_user'] = new_predictions\n",
    "sub_12_ha_rd.to_csv(\"kaggle_submissions/sub_12_ha_rd.csv\", index=False) # accuracy = .64"
   ]
  },
  {
   "cell_type": "code",
   "execution_count": null,
   "id": "2c4f7073",
   "metadata": {},
   "outputs": [],
   "source": [
    "ha = pd.read_csv('lstm_submission.csv')\n",
    "inds = [i for i in range(len(ha.pol_spec_user))]\n",
    "sub_13_ha_lstm = pd.DataFrame(data={'id': inds, \n",
    "                           'pol_spec_user': ha.pol_spec_user})\n",
    "\n",
    "new_predictions = relabel_predictions(ha.pol_spec_user)\n",
    "sub_13_ha_lstm['pol_spec_user'] = new_predictions\n",
    "sub_13_ha_lstm.to_csv(\"kaggle_submissions/sub_13_ha_lstm.csv\", index=False) "
   ]
  },
  {
   "cell_type": "code",
   "execution_count": 1,
   "id": "c7181cad",
   "metadata": {},
   "outputs": [
    {
     "ename": "NameError",
     "evalue": "name 'pd' is not defined",
     "output_type": "error",
     "traceback": [
      "\u001b[0;31m---------------------------------------------------------------------------\u001b[0m",
      "\u001b[0;31mNameError\u001b[0m                                 Traceback (most recent call last)",
      "\u001b[1;32m/Users/havu/Document/URDOCS/DSC 483/dsc483_mini_combined final.ipynb Cell 107\u001b[0m line \u001b[0;36m1\n\u001b[0;32m----> <a href='vscode-notebook-cell:/Users/havu/Document/URDOCS/DSC%20483/dsc483_mini_combined%20final.ipynb#Y253sZmlsZQ%3D%3D?line=0'>1</a>\u001b[0m ha \u001b[39m=\u001b[39m pd\u001b[39m.\u001b[39mread_csv(\u001b[39m'\u001b[39m\u001b[39mcb_submission.csv\u001b[39m\u001b[39m'\u001b[39m)\n\u001b[1;32m      <a href='vscode-notebook-cell:/Users/havu/Document/URDOCS/DSC%20483/dsc483_mini_combined%20final.ipynb#Y253sZmlsZQ%3D%3D?line=1'>2</a>\u001b[0m inds \u001b[39m=\u001b[39m [i \u001b[39mfor\u001b[39;00m i \u001b[39min\u001b[39;00m \u001b[39mrange\u001b[39m(\u001b[39mlen\u001b[39m(ha\u001b[39m.\u001b[39mpol_spec_user))]\n\u001b[1;32m      <a href='vscode-notebook-cell:/Users/havu/Document/URDOCS/DSC%20483/dsc483_mini_combined%20final.ipynb#Y253sZmlsZQ%3D%3D?line=2'>3</a>\u001b[0m sub_13_ha_lstm \u001b[39m=\u001b[39m pd\u001b[39m.\u001b[39mDataFrame(data\u001b[39m=\u001b[39m{\u001b[39m'\u001b[39m\u001b[39mid\u001b[39m\u001b[39m'\u001b[39m: inds, \n\u001b[1;32m      <a href='vscode-notebook-cell:/Users/havu/Document/URDOCS/DSC%20483/dsc483_mini_combined%20final.ipynb#Y253sZmlsZQ%3D%3D?line=3'>4</a>\u001b[0m                            \u001b[39m'\u001b[39m\u001b[39mpol_spec_user\u001b[39m\u001b[39m'\u001b[39m: ha\u001b[39m.\u001b[39mpol_spec_user})\n",
      "\u001b[0;31mNameError\u001b[0m: name 'pd' is not defined"
     ]
    }
   ],
   "source": [
    "ha = pd.read_csv('cb_submission.csv')\n",
    "inds = [i for i in range(len(ha.pol_spec_user))]\n",
    "sub_13_ha_lstm = pd.DataFrame(data={'id': inds, \n",
    "                           'pol_spec_user': ha.pol_spec_user})\n",
    "\n",
    "new_predictions = relabel_predictions(ha.pol_spec_user)\n",
    "sub_13_ha_lstm['pol_spec_user'] = new_predictions\n",
    "sub_13_ha_lstm.to_csv(\"kaggle_submissions/sub_14_ha_cb.csv\", index=False) "
   ]
  },
  {
   "cell_type": "markdown",
   "id": "3f74e694",
   "metadata": {},
   "source": [
    "## Modelling using Word2Vec"
   ]
  },
  {
   "cell_type": "code",
   "execution_count": 43,
   "id": "921dd39e",
   "metadata": {},
   "outputs": [],
   "source": [
    "from sklearn.preprocessing import LabelEncoder, OneHotEncoder\n",
    "import torch\n",
    "import torch.nn as nn\n",
    "from torchtext import data\n",
    "from torch.utils.data import TensorDataset, DataLoader\n",
    "import torch.optim as optim\n",
    "\n",
    "import warnings as wrn\n",
    "wrn.filterwarnings('ignore')\n",
    "SEED = 2021\n",
    "\n",
    "torch.manual_seed(SEED)\n",
    "torch.backends.cuda.deterministic = True\n",
    "from gensim.models import Word2Vec\n",
    "import spacy\n",
    "nlp = spacy.load(\"en_core_web_lg\")"
   ]
  },
  {
   "cell_type": "code",
   "execution_count": 77,
   "id": "98048eb3",
   "metadata": {},
   "outputs": [],
   "source": [
    "def tokenizer(text): # create a tokenizer function to be used for the hashtags before vectorizing\n",
    "    return [tok.text for tok in nlp.tokenizer(text)]\n",
    "\n",
    "# create a column with tokenized hashtags for both train and test sets\n",
    "train1= pd.read_excel('train3.xlsx')\n",
    "test1= pd.read_csv('train3.xlsx')"
   ]
  },
  {
   "cell_type": "code",
   "execution_count": 69,
   "id": "8469a100",
   "metadata": {},
   "outputs": [],
   "source": [
    "train1['tokenized_hashtags'] = train1['hashtags'].apply(tokenizer)\n",
    "test1['tokenized_hashtags'] = test1['hashtags'].apply(tokenizer)"
   ]
  },
  {
   "cell_type": "markdown",
   "id": "58f08a53",
   "metadata": {},
   "source": [
    "### Vectorize tweets"
   ]
  },
  {
   "cell_type": "code",
   "execution_count": null,
   "id": "70c421ea",
   "metadata": {},
   "outputs": [],
   "source": [
    "word2vec_model = Word2Vec(train1['text_clean_split'], vector_size=300, window=5, min_count=10, sg=1)"
   ]
  },
  {
   "cell_type": "code",
   "execution_count": null,
   "id": "c4cfbe2d",
   "metadata": {},
   "outputs": [],
   "source": [
    "words = set(word2vec_model.wv.index_to_key )\n",
    "words"
   ]
  },
  {
   "cell_type": "code",
   "execution_count": null,
   "id": "3cdc63cc",
   "metadata": {},
   "outputs": [],
   "source": [
    "words = set(word2vec_model.wv.index_to_key )\n",
    "X_train_vect = np.array([np.array([word2vec_model.wv[i] for i in ls if i in words])\n",
    "                         for ls in train1['text_clean_split']])\n",
    "\n",
    "X_test_vect = np.array([np.array([word2vec_model.wv[i] for i in ls if i in words])\n",
    "                         for ls in test1['text_clean_split']])"
   ]
  },
  {
   "cell_type": "code",
   "execution_count": null,
   "id": "65612e19",
   "metadata": {},
   "outputs": [],
   "source": [
    "X_train_vect_avg = []\n",
    "for v in X_train_vect:\n",
    "    if v.size:\n",
    "        X_train_vect_avg.append(v.mean(axis=0))\n",
    "    else:\n",
    "        X_train_vect_avg.append(np.zeros(300, dtype=float))\n",
    "X_train_vect_avg = np.array(X_train_vect_avg)\n",
    "\n",
    "X_test_vect_avg = []\n",
    "for v in X_test_vect:\n",
    "    if v.size:\n",
    "        X_test_vect_avg.append(v.mean(axis=0))\n",
    "    else:\n",
    "        X_test_vect_avg.append(np.zeros(300, dtype=float))\n",
    "X_test_vect_avg = np.array(X_test_vect_avg)\n",
    "\n",
    "#final result is a vectorized array of the tweets from both traing and test sets"
   ]
  },
  {
   "cell_type": "markdown",
   "id": "6e17b58f",
   "metadata": {},
   "source": [
    "### Vectorize hashtags"
   ]
  },
  {
   "cell_type": "code",
   "execution_count": null,
   "id": "4cb80304",
   "metadata": {},
   "outputs": [],
   "source": [
    "w2v_model_hashtag = Word2Vec(train1['tokenized_hashtags'], vector_size=100, window=2, min_count=2, sg=1)  # Adjust parameters as needed"
   ]
  },
  {
   "cell_type": "code",
   "execution_count": null,
   "id": "edd97bc5",
   "metadata": {},
   "outputs": [],
   "source": [
    "words1= set(w2v_model_hashtag.wv.index_to_key)\n",
    "X_train_vect_hashtag = np.array([np.array([w2v_model_hashtag.wv[i] for i in ls if i in words1])\n",
    "                         for ls in train1['tokenized_hashtags']])\n",
    "X_train_vect_avg_hashtag = []\n",
    "for v in X_train_vect_hashtag:\n",
    "    if v.size:\n",
    "        X_train_vect_avg_hashtag.append(v.mean(axis=0))\n",
    "    else:\n",
    "        X_train_vect_avg_hashtag.append(np.zeros(100, dtype=float))\n",
    "X_train_vect_avg_hashtag = np.array(X_train_vect_avg_hashtag)\n",
    "\n",
    "X_test_vect_hashtag = np.array([np.array([w2v_model_hashtag.wv[i] for i in ls if i in words1])\n",
    "                         for ls in test1['tokenized_hashtags']])\n",
    "X_test_vect_avg_hashtag = []\n",
    "for v in X_test_vect_hashtag:\n",
    "    if v.size:\n",
    "        X_test_vect_avg_hashtag.append(v.mean(axis=0))\n",
    "    else:\n",
    "        X_test_vect_avg_hashtag.append(np.zeros(100, dtype=float))\n",
    "X_test_vect_avg_hashtag = np.array(X_test_vect_avg_hashtag)\n",
    "\n",
    "#result is a vectorized array of the hashtags from both traing and test sets"
   ]
  },
  {
   "cell_type": "markdown",
   "id": "ae8a7a26",
   "metadata": {},
   "source": [
    "### Label encoding categorical features"
   ]
  },
  {
   "cell_type": "code",
   "execution_count": null,
   "id": "37af0197",
   "metadata": {},
   "outputs": [],
   "source": [
    "le = LabelEncoder()\n",
    "encoded_country = le.fit_transform(train1['country_user']) #label encode train country_user column\n",
    "encoded_country_test = le.transform(test1['country_user']) #label encode test country_user column\n",
    "encoded_gender = le.fit_transform(train1['gender_user']) #label encode train gender_user column\n",
    "encoded_gender_test = le.transform(test1['gender_user']) #label encode test gender_user column\n",
    "encoded_pol_spec = le.fit_transform(train1['pol_spec_user']) #label encode train pol_spec_user column\n",
    "\n",
    "#stack the encoded columns and additional features\n",
    "features = np.column_stack((train1['is_retweet'], train1['in_reply_or_not'], \n",
    "                            train1['has_user_mentions'], train1['tweet_char_len1'], train1['hashtag_char_len1'],\n",
    "                            train1['tweet_word_len1'], train1['hashtag_word_len1'], \n",
    "                            encoded_country, encoded_gender, encoded_pol_spec))\n",
    "\n",
    "#stack the encoded columns and additional features\n",
    "features_test = np.column_stack((test1['is_retweet'], test1['in_reply_or_not'], \n",
    "                                 test1['has_user_mentions'], test1['tweet_char_len1'], test1['hashtag_char_len1'],\n",
    "                                 test1['tweet_word_len1'], test1['hashtag_word_len1'], \n",
    "                                 encoded_country_test, encoded_gender_test))\n",
    "\n",
    "# stack the vectorized tweets and hashtags with the encoded columns and additional features \n",
    "train2 = np.hstack((X_train_vect_avg, X_train_vect_avg_hashtag, features))\n",
    "\n",
    "# stack the vectorized tweets and hashtags with the encoded columns and additional features\n",
    "test2 = np.hstack((X_test_vect_avg, X_test_vect_avg_hashtag, features_test))"
   ]
  },
  {
   "cell_type": "markdown",
   "id": "7b035dc7",
   "metadata": {},
   "source": [
    "### train-test split"
   ]
  },
  {
   "cell_type": "code",
   "execution_count": null,
   "id": "ab955258",
   "metadata": {},
   "outputs": [],
   "source": [
    "X = train2[:, :-1] \n",
    "y = train2[:, -1]\n",
    "X_train, X_test, y_train, y_test = train_test_split(X, y, test_size=0.2, stratify=y, random_state=42)"
   ]
  },
  {
   "cell_type": "markdown",
   "id": "9b35e648",
   "metadata": {},
   "source": [
    "### Catboost classifier"
   ]
  },
  {
   "cell_type": "code",
   "execution_count": null,
   "id": "2e7de840",
   "metadata": {},
   "outputs": [],
   "source": [
    "from catboost import CatBoostClassifier"
   ]
  },
  {
   "cell_type": "code",
   "execution_count": null,
   "id": "6fba40ec",
   "metadata": {},
   "outputs": [],
   "source": [
    "#create a catboost model\n",
    "cb = CatBoostClassifier(iterations=2001, loss_function='MultiClass', eval_metric='Accuracy', verbose = 200, random_state=42)"
   ]
  },
  {
   "cell_type": "code",
   "execution_count": null,
   "id": "9617ae45",
   "metadata": {},
   "outputs": [],
   "source": [
    "#fit the model into train set and evaluate on test set\n",
    "cb.fit(X_train, y_train, eval_set=(X_test, y_test), early_stopping_rounds=100)"
   ]
  },
  {
   "cell_type": "code",
   "execution_count": null,
   "id": "233637e8",
   "metadata": {},
   "outputs": [],
   "source": [
    "#predict on test set\n",
    "final_pred = cb.predict(test2)\n",
    "\n",
    "#convert the predictions to the required format\n",
    "preds = []\n",
    "for i in final_pred:\n",
    "    if i == 0:\n",
    "        preds.append('Center')\n",
    "    elif i == 1:\n",
    "        preds.append('Independent') \n",
    "    elif i == 2:\n",
    "        preds.append('Left')\n",
    "    elif i == 3:\n",
    "        preds.append('Right')"
   ]
  },
  {
   "cell_type": "code",
   "execution_count": null,
   "id": "54237b40",
   "metadata": {},
   "outputs": [],
   "source": [
    "sample_submission = pd.read_csv('sample_submission.csv')\n",
    "sample_submission['pol_spec_user'] = preds\n",
    "sample_submission.to_csv('cb_submission.csv', index=False)"
   ]
  },
  {
   "cell_type": "code",
   "execution_count": null,
   "id": "e094e164",
   "metadata": {},
   "outputs": [],
   "source": [
    "#confusion matrix for train and eval sets\n",
    "y_pred = cb.predict(X_test)\n",
    "y_preds1 = []\n",
    "for i in y_pred:\n",
    "    if i == 0:\n",
    "        y_preds1.append('Center')\n",
    "    elif i == 1:\n",
    "        y_preds1.append('Independent') \n",
    "    elif i == 2:\n",
    "        y_preds1.append('Left')\n",
    "    elif i == 3:\n",
    "        y_preds1.append('Right')\n",
    "\n",
    "y_test1 = []\n",
    "for i in y_test:\n",
    "    if i == 0:\n",
    "        y_test1.append('Center')\n",
    "    elif i == 1:\n",
    "        y_test1.append('Independent') \n",
    "    elif i == 2:\n",
    "        y_test1.append('Left')\n",
    "    elif i == 3:\n",
    "       y_test1.append('Right')\n",
    "\n",
    "from sklearn.metrics import confusion_matrix\n",
    "\n",
    "# Calculate the confusion matrix\n",
    "conf_matrix = confusion_matrix(y_preds1, y_test1)\n",
    "\n",
    "plt.figure(figsize=(8, 6))\n",
    "sns.heatmap(conf_matrix, annot=True, fmt='d', cmap='Blues', cbar=False,\n",
    "            xticklabels=['Predicted Center', 'Predicted Independent', 'Predicted Left', 'Predicted Right'],\n",
    "            yticklabels=['Actual Center', 'Actual Independent', 'Actual Left', 'Actual Right'])\n",
    "plt.xlabel('Predicted')\n",
    "plt.ylabel('Actual')\n",
    "plt.title('Confusion Matrix')\n",
    "plt.savefig('cb conf matrix')\n",
    "plt.show()"
   ]
  },
  {
   "cell_type": "markdown",
   "id": "33d96c87",
   "metadata": {},
   "source": [
    "### LSTM Model"
   ]
  },
  {
   "cell_type": "code",
   "execution_count": null,
   "id": "87178146",
   "metadata": {},
   "outputs": [],
   "source": [
    "#reshape the training and validation sets into required format to feed into the model\n",
    "X_train = X_train.reshape(-1, 1, 409)\n",
    "X_val = X_test.reshape(-1, 1, 409)\n",
    "X = X.reshape(-1, 1, 409)\n",
    "\n",
    "train_dataset = TensorDataset(torch.Tensor(X_train), torch.LongTensor(y_train))\n",
    "val_dataset = TensorDataset(torch.Tensor(X_val), torch.LongTensor(y_test))\n",
    "\n",
    "batch_size = 64\n",
    "train_loader = DataLoader(train_dataset, batch_size=batch_size, shuffle=True)\n",
    "val_loader = DataLoader(val_dataset, batch_size=batch_size)"
   ]
  },
  {
   "cell_type": "code",
   "execution_count": null,
   "id": "de894f91",
   "metadata": {},
   "outputs": [],
   "source": [
    "#create the LSTM Model architecture\n",
    "class LSTMModel(nn.Module):\n",
    "    def __init__(self, input_size, hidden_size, num_classes, dropout):\n",
    "        super(LSTMModel, self).__init__()\n",
    "        self.lstm = nn.LSTM(input_size, hidden_size, batch_first=True)\n",
    "        self.dropout = nn.Dropout(dropout)\n",
    "        self.fc = nn.Linear(hidden_size, num_classes)\n",
    "\n",
    "    def forward(self, x):\n",
    "        out, _ = self.lstm(x)\n",
    "        out = self.fc(out[:, -1, :])  # Get the output of the last time step\n",
    "        return out\n",
    "\n",
    "# Define your model\n",
    "input_size = 409\n",
    "hidden_size = 128\n",
    "num_classes =  4  \n",
    "drop_out = 0.1\n",
    "\n",
    "model = LSTMModel(input_size, hidden_size, num_classes, drop_out)\n"
   ]
  },
  {
   "cell_type": "code",
   "execution_count": null,
   "id": "a2b8d82b",
   "metadata": {},
   "outputs": [],
   "source": [
    "criterion = nn.CrossEntropyLoss()\n",
    "optimizer = optim.Adam(model.parameters(), lr=0.001)"
   ]
  },
  {
   "cell_type": "code",
   "execution_count": null,
   "id": "58625cd2",
   "metadata": {},
   "outputs": [],
   "source": [
    "#training the data on the model\n",
    "num_epochs = 15\n",
    "for epoch in range(num_epochs):\n",
    "    model.train()\n",
    "    total_loss = 0\n",
    "    for inputs, labels in train_loader:\n",
    "        optimizer.zero_grad()\n",
    "        outputs = model(inputs)\n",
    "        loss = criterion(outputs, labels)\n",
    "        loss.backward()\n",
    "        optimizer.step()\n",
    "        total_loss += loss.item()\n",
    "\n",
    "    average_loss = total_loss / len(train_loader)\n",
    "    print(f'Epoch [{epoch + 1}/{num_epochs}] Loss: {average_loss:.4f}')\n",
    "\n",
    "print('Training Finished!')\n",
    "\n",
    "#evaluate the model on the validation set\n",
    "model.eval()\n",
    "with torch.no_grad():\n",
    "    correct = 0\n",
    "    total = 0\n",
    "    for inputs, labels in val_loader:\n",
    "        outputs = model(inputs)\n",
    "        _, predicted = torch.max(outputs.data, 1)\n",
    "        total += labels.size(0)\n",
    "        correct += (predicted == labels).sum().item()\n",
    "\n",
    "accuracy = 100 * correct / total\n",
    "print(f'Validation Accuracy: {accuracy:.2f}%')\n"
   ]
  },
  {
   "cell_type": "code",
   "execution_count": null,
   "id": "82340659",
   "metadata": {},
   "outputs": [],
   "source": [
    "test_data = torch.Tensor(test2)\n",
    "test_data = test_data.reshape(-1, 1, 409)  # Reshape test data\n",
    "\n",
    "model.eval()\n",
    "with torch.no_grad():\n",
    "    predictions = model(test_data)\n",
    "\n",
    "# 'predicted_labels' contains the predicted class labels for test data.\n",
    "predicted_labels = torch.argmax(predictions, dim=1)\n",
    "\n",
    "predicted_labels = predicted_labels.numpy()\n",
    "\n",
    "preds = []\n",
    "for i in predicted_labels:\n",
    "    if i == 0:\n",
    "        preds.append('Center')\n",
    "    elif i == 1:\n",
    "        preds.append('Independent') \n",
    "    elif i == 2:\n",
    "        preds.append('Left')\n",
    "    elif i == 3:\n",
    "        preds.append('Right')"
   ]
  },
  {
   "cell_type": "code",
   "execution_count": null,
   "id": "075d83d7",
   "metadata": {},
   "outputs": [],
   "source": [
    "sample_submission = pd.read_csv('sample_submission.csv')\n",
    "sample_submission['pol_spec_user'] = preds\n",
    "sample_submission.to_csv('lstm_submission1.csv', index=False)"
   ]
  }
 ],
 "metadata": {
  "kernelspec": {
   "display_name": "newenv",
   "language": "python",
   "name": "python3"
  },
  "language_info": {
   "codemirror_mode": {
    "name": "ipython",
    "version": 3
   },
   "file_extension": ".py",
   "mimetype": "text/x-python",
   "name": "python",
   "nbconvert_exporter": "python",
   "pygments_lexer": "ipython3",
   "version": "3.10.10"
  }
 },
 "nbformat": 4,
 "nbformat_minor": 5
}
